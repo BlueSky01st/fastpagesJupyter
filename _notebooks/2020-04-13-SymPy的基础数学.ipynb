{
 "cells": [
  {
   "cell_type": "markdown",
   "metadata": {},
   "source": [
    "# \"LaTeX数学符号显示\"\n",
    "> \"SymPy的基础数学，测试数学符号的显示\"\n",
    "\n",
    "- toc: true\n",
    "- branch: master\n",
    "- badges: true\n",
    "- comments: true\n",
    "- categories: [fastpages, jupyter, 数学]"
   ]
  },
  {
   "cell_type": "markdown",
   "metadata": {},
   "source": [
    "# SymPy的基础数学"
   ]
  },
  {
   "cell_type": "markdown",
   "metadata": {},
   "source": [
    "## 引言\n",
    "计算机代数系统(CAS)可以用来计算复杂的数学表达式、求解方程、实施微积分过程及模拟物理系统。\n",
    "\n",
    "所有计算机代数系统都能提供本质上相同的功能，因此使用哪种系统并不重要：有免费的系统，如SymPy, Magma, 或Octave；也有商业化的系统，如Maple, MATLAB,和Mathematica等等。\n",
    "\n",
    "本课程使用SymPy，它是用Python语言编写的一个开源符号代数系统。在符号CAS中，数和运算都用符号来表示，因此得到的答案是精确的。例如，数$\\sqrt{2}$在SymPy中被表示为Pow(2,1/2)，而在像Octave这样的数值计算机代数系统中，$\\sqrt{2}$被表示为近似值$1.41421356237310$(一个浮点数)。对多数场合而言，近似值也够用了，但有的时候，近似值还是会导致问题：\n",
    "$$float(\\sqrt{2})*float(\\sqrt{2}) = 2.00000000000000044 \\ne 2.$$ \n",
    "因为SymPy使用精确表示，你不会遇到此类问题（除非实现的算法有错误）：\n",
    "$$Pow(2,1/2)*Pow(2,1/2)= 2.$$"
   ]
  },
  {
   "cell_type": "markdown",
   "metadata": {},
   "source": [
    "## 导入SymPy\n",
    "使用SymPy的最简单方法是访问网站http://live.sympy.org. \n",
    "\n",
    "如果在自己的计算机上使用SymPy必须先安装Python，然后将sympy作为Python的一个扩展包导入即可。\n",
    "\n",
    "例如，在终端运行python，出现>>>提示符。我们用如下命令导入sympy：\n",
    "\n",
    "import sympy as sp\n",
    "\n",
    "推荐使用交互式python外壳IPython，或者为了有更佳的体验，使用Python的Web前端Jupyter\n",
    "Notebook，正如现在我们所使用的。"
   ]
  },
  {
   "cell_type": "code",
   "execution_count": 2,
   "metadata": {},
   "outputs": [],
   "source": [
    "import sympy as sp   # 导入sympy, 名空间为sp."
   ]
  },
  {
   "cell_type": "markdown",
   "metadata": {},
   "source": [
    "## 1. 使用SymPy的基础数学\n",
    "我们使用SymPy的基本对象和操作来学习初等数学。\n",
    "SymPy能对数学对象做一些基本数学操作，包括“求解”(方程)、“展开”(表达式)、“分解”(多项式)等等。"
   ]
  },
  {
   "cell_type": "markdown",
   "metadata": {},
   "source": [
    "###  1.1 数及其运算\n",
    "Python有两种类型数：int(整数)和float(浮点数)。"
   ]
  },
  {
   "cell_type": "code",
   "execution_count": 3,
   "metadata": {},
   "outputs": [
    {
     "data": {
      "text/plain": [
       "5"
      ]
     },
     "execution_count": 3,
     "metadata": {},
     "output_type": "execute_result"
    }
   ],
   "source": [
    "5   # 一个整数"
   ]
  },
  {
   "cell_type": "code",
   "execution_count": 4,
   "metadata": {},
   "outputs": [
    {
     "data": {
      "text/plain": [
       "5.0"
      ]
     },
     "execution_count": 4,
     "metadata": {},
     "output_type": "execute_result"
    }
   ],
   "source": [
    "5.0  # 一个浮点数"
   ]
  },
  {
   "cell_type": "markdown",
   "metadata": {},
   "source": [
    "Python中整数对象是整数集合\n",
    "$$\\mathbb{Z} = \\{. . . ,−2,−1, 0, 1, 2, . . .\\}$$\n",
    "的忠实表现。\n",
    "浮点数则是实数集合$\\mathbb{R}$的近似表示：浮点数只有小数点后16位数字的精度。"
   ]
  },
  {
   "cell_type": "markdown",
   "metadata": {},
   "source": [
    "除了除法以外，Python中的常规数学运算，如$+, -, *(乘法), **(乘幂)$，都与普通的数学实践一致。\n",
    "\n",
    "例如："
   ]
  },
  {
   "cell_type": "code",
   "execution_count": 5,
   "metadata": {},
   "outputs": [
    {
     "data": {
      "text/plain": [
       "1024"
      ]
     },
     "execution_count": 5,
     "metadata": {},
     "output_type": "execute_result"
    }
   ],
   "source": [
    "2**10    # 2的10幂"
   ]
  },
  {
   "cell_type": "markdown",
   "metadata": {},
   "source": [
    "涉及到有理数的时候要特别注意：整数的除法可能不会产生你想要得到的结果，因为有时Python不会自动将答案转成浮点数，而是将答案截断，给出最接近的整数。幸运的是，在Python 3.x的最新版本中，这个问题已经解决了。\n",
    "\n",
    "例如："
   ]
  },
  {
   "cell_type": "code",
   "execution_count": 6,
   "metadata": {},
   "outputs": [
    {
     "data": {
      "text/plain": [
       "0.14285714285714285"
      ]
     },
     "execution_count": 6,
     "metadata": {},
     "output_type": "execute_result"
    }
   ],
   "source": [
    "1 / 7            # 虽然是int/int，但会自动转换为浮点数。"
   ]
  },
  {
   "cell_type": "code",
   "execution_count": 7,
   "metadata": {},
   "outputs": [
    {
     "data": {
      "text/latex": [
       "$\\displaystyle \\frac{1}{7}$"
      ],
      "text/plain": [
       "1/7"
      ]
     },
     "execution_count": 7,
     "metadata": {},
     "output_type": "execute_result"
    }
   ],
   "source": [
    "sp.S(\"1/7\")      # S可用于化简任何表达式。"
   ]
  },
  {
   "cell_type": "code",
   "execution_count": 8,
   "metadata": {},
   "outputs": [
    {
     "data": {
      "text/latex": [
       "$\\displaystyle \\frac{1}{7}$"
      ],
      "text/plain": [
       "1/7"
      ]
     },
     "execution_count": 8,
     "metadata": {},
     "output_type": "execute_result"
    }
   ],
   "source": [
    "sp.Rational(1, 7) # 保留为有理数表达式。"
   ]
  },
  {
   "cell_type": "markdown",
   "metadata": {},
   "source": [
    "求解数学问题时，最好使用SymPy对象（数或者符号）并等待出来精确的值。如果要将SymPy对象转换为近似的浮点值，可以调用.evalf()方法，括号中可以用一个正整数来指定需要多少位近似值。\n",
    "\n",
    "例如："
   ]
  },
  {
   "cell_type": "code",
   "execution_count": 9,
   "metadata": {},
   "outputs": [
    {
     "data": {
      "text/latex": [
       "$\\displaystyle \\pi$"
      ],
      "text/plain": [
       "pi"
      ]
     },
     "execution_count": 9,
     "metadata": {},
     "output_type": "execute_result"
    }
   ],
   "source": [
    "sp.pi"
   ]
  },
  {
   "cell_type": "code",
   "execution_count": 10,
   "metadata": {},
   "outputs": [
    {
     "data": {
      "text/latex": [
       "$\\displaystyle 3.14159265358979$"
      ],
      "text/plain": [
       "3.14159265358979"
      ]
     },
     "execution_count": 10,
     "metadata": {},
     "output_type": "execute_result"
    }
   ],
   "source": [
    "sp.pi.evalf()"
   ]
  },
  {
   "cell_type": "code",
   "execution_count": 11,
   "metadata": {},
   "outputs": [
    {
     "data": {
      "text/latex": [
       "$\\displaystyle 3.141592653589793238462643383279502884197169399375105820974944592307816406286208998628034825342117068$"
      ],
      "text/plain": [
       "3.141592653589793238462643383279502884197169399375105820974944592307816406286208998628034825342117068"
      ]
     },
     "execution_count": 11,
     "metadata": {},
     "output_type": "execute_result"
    }
   ],
   "source": [
    "sp.pi.evalf(100)"
   ]
  },
  {
   "cell_type": "markdown",
   "metadata": {},
   "source": [
    "方法.n()与.evalf()等价。\n",
    "\n",
    "另外，SymPy全局函数N()也可以用于计算数值。"
   ]
  },
  {
   "cell_type": "code",
   "execution_count": 12,
   "metadata": {},
   "outputs": [
    {
     "data": {
      "text/latex": [
       "$\\displaystyle 3.141592653589793238462643383279502884197169399375105820974944592307816406286208998628034825342117068$"
      ],
      "text/plain": [
       "3.141592653589793238462643383279502884197169399375105820974944592307816406286208998628034825342117068"
      ]
     },
     "execution_count": 12,
     "metadata": {},
     "output_type": "execute_result"
    }
   ],
   "source": [
    "sp.pi.n(100)"
   ]
  },
  {
   "cell_type": "markdown",
   "metadata": {},
   "source": [
    "### 1.2 符号\n",
    "SymPy中最有趣的计算要求我们定义符号，即SymPy中用于表示数学变量或未知量的对象。"
   ]
  },
  {
   "cell_type": "code",
   "execution_count": 14,
   "metadata": {},
   "outputs": [],
   "source": [
    "a = sp.Symbol('a')                            # 定义一个符号\n",
    "x, y, z, t = sp.symbols('x y z t')            # 同时定义多个符号\n",
    "k, m, n = sp.symbols('k m n', integer=True)   # 定义多个取整数值的符号\n",
    "f, g, h = sp.symbols('f g h', function=True)  # 定义多个函数符号"
   ]
  },
  {
   "cell_type": "markdown",
   "metadata": {},
   "source": [
    "现在你可以想在数学中那样使用这些符号了！"
   ]
  },
  {
   "cell_type": "code",
   "execution_count": 15,
   "metadata": {},
   "outputs": [
    {
     "data": {
      "text/latex": [
       "$\\displaystyle x + 2$"
      ],
      "text/plain": [
       "x + 2"
      ]
     },
     "execution_count": 15,
     "metadata": {},
     "output_type": "execute_result"
    }
   ],
   "source": [
    "x + 2"
   ]
  },
  {
   "cell_type": "code",
   "execution_count": 16,
   "metadata": {},
   "outputs": [
    {
     "data": {
      "text/latex": [
       "$\\displaystyle 3^{x}$"
      ],
      "text/plain": [
       "3**x"
      ]
     },
     "execution_count": 16,
     "metadata": {},
     "output_type": "execute_result"
    }
   ],
   "source": [
    "3 ** x"
   ]
  },
  {
   "cell_type": "code",
   "execution_count": 17,
   "metadata": {},
   "outputs": [
    {
     "data": {
      "text/latex": [
       "$\\displaystyle x y + 2 y$"
      ],
      "text/plain": [
       "x*y + 2*y"
      ]
     },
     "execution_count": 17,
     "metadata": {},
     "output_type": "execute_result"
    }
   ],
   "source": [
    "x*y + 2*y"
   ]
  },
  {
   "cell_type": "code",
   "execution_count": 18,
   "metadata": {},
   "outputs": [],
   "source": [
    "sp.init_printing()      # 加入这条语句是为了使数学公式输出更美观。"
   ]
  },
  {
   "cell_type": "code",
   "execution_count": 19,
   "metadata": {},
   "outputs": [
    {
     "data": {
      "image/png": "[encoded data removed]",
      "text/latex": [
       "$\\displaystyle x y + 2 y$"
      ],
      "text/plain": [
       "x⋅y + 2⋅y"
      ]
     },
     "execution_count": 19,
     "metadata": {},
     "output_type": "execute_result"
    }
   ],
   "source": [
    "x*y + 2*y               # 看出来变化了吗？ "
   ]
  },
  {
   "cell_type": "code",
   "execution_count": 20,
   "metadata": {},
   "outputs": [
    {
     "data": {
      "image/png": "[encoded data removed]",
      "text/latex": [
       "$\\displaystyle 3^{x}$"
      ],
      "text/plain": [
       " x\n",
       "3 "
      ]
     },
     "execution_count": 20,
     "metadata": {},
     "output_type": "execute_result"
    }
   ],
   "source": [
    "3 ** x"
   ]
  },
  {
   "cell_type": "code",
   "execution_count": 21,
   "metadata": {},
   "outputs": [
    {
     "data": {
      "image/png": "[encoded data removed]",
      "text/latex": [
       "$\\displaystyle \\pi$"
      ],
      "text/plain": [
       "π"
      ]
     },
     "execution_count": 21,
     "metadata": {},
     "output_type": "execute_result"
    }
   ],
   "source": [
    "sp.pi       # E表示自然对数的底。"
   ]
  },
  {
   "cell_type": "markdown",
   "metadata": {},
   "source": [
    "你还可以用下列方法定义变量的序列："
   ]
  },
  {
   "cell_type": "code",
   "execution_count": 22,
   "metadata": {},
   "outputs": [],
   "source": [
    "a0, a1, a2, a3 = sp.symbols('a0:4')"
   ]
  },
  {
   "cell_type": "code",
   "execution_count": 23,
   "metadata": {},
   "outputs": [
    {
     "data": {
      "image/png": "[encoded data removed]",
      "text/latex": [
       "$\\displaystyle a_{1}$"
      ],
      "text/plain": [
       "a₁"
      ]
     },
     "execution_count": 23,
     "metadata": {},
     "output_type": "execute_result"
    }
   ],
   "source": [
    "a1"
   ]
  },
  {
   "cell_type": "markdown",
   "metadata": {},
   "source": [
    "下划线符号 _ 是一个特殊的变量，它包含有前一次输出值的结果。这个变量在进行多步运算是非常有用。\n",
    "\n",
    "例如："
   ]
  },
  {
   "cell_type": "code",
   "execution_count": 24,
   "metadata": {},
   "outputs": [
    {
     "data": {
      "image/png": "[encoded data removed]",
      "text/latex": [
       "$\\displaystyle 8$"
      ],
      "text/plain": [
       "8"
      ]
     },
     "execution_count": 24,
     "metadata": {},
     "output_type": "execute_result"
    }
   ],
   "source": [
    "3 + 5"
   ]
  },
  {
   "cell_type": "code",
   "execution_count": 25,
   "metadata": {},
   "outputs": [
    {
     "data": {
      "image/png": "[encoded data removed]",
      "text/latex": [
       "$\\displaystyle 512$"
      ],
      "text/plain": [
       "512"
      ]
     },
     "execution_count": 25,
     "metadata": {},
     "output_type": "execute_result"
    }
   ],
   "source": [
    "_ ** 3"
   ]
  },
  {
   "cell_type": "markdown",
   "metadata": {},
   "source": [
    "### 1.3 表达式"
   ]
  },
  {
   "cell_type": "markdown",
   "metadata": {},
   "source": [
    "SymPy表达式是符号与基本数学运算和其它函数的组合。\n",
    "函数simplify可以用于化简任何表达式，类似的函数还有factor, expand, collect等。\n",
    "下面实例中的其它SymPy函数对应于作用表达式的常用函数。"
   ]
  },
  {
   "cell_type": "code",
   "execution_count": 26,
   "metadata": {
    "scrolled": true
   },
   "outputs": [
    {
     "data": {
      "image/png": "[encoded data removed]",
      "text/latex": [
       "$\\displaystyle 2 x - \\sin{\\left(x \\right)} + 42$"
      ],
      "text/plain": [
       "2⋅x - sin(x) + 42"
      ]
     },
     "execution_count": 26,
     "metadata": {},
     "output_type": "execute_result"
    }
   ],
   "source": [
    "expr = 2*x + 3*x - sp.sin(x) - 3*x + 42\n",
    "expr"
   ]
  },
  {
   "cell_type": "code",
   "execution_count": 27,
   "metadata": {},
   "outputs": [
    {
     "data": {
      "image/png": "[encoded data removed]",
      "text/latex": [
       "$\\displaystyle 2 x - \\sin{\\left(x \\right)} + 42$"
      ],
      "text/plain": [
       "2⋅x - sin(x) + 42"
      ]
     },
     "execution_count": 27,
     "metadata": {},
     "output_type": "execute_result"
    }
   ],
   "source": [
    "sp.simplify(expr)"
   ]
  },
  {
   "cell_type": "code",
   "execution_count": 28,
   "metadata": {},
   "outputs": [
    {
     "data": {
      "image/png": "[encoded data removed]",
      "text/latex": [
       "$\\displaystyle \\left(x - 4\\right) \\left(x + 2\\right)$"
      ],
      "text/plain": [
       "(x - 4)⋅(x + 2)"
      ]
     },
     "execution_count": 28,
     "metadata": {},
     "output_type": "execute_result"
    }
   ],
   "source": [
    "sp.factor( x**2-2*x-8 )    # 因式分解"
   ]
  },
  {
   "cell_type": "code",
   "execution_count": 29,
   "metadata": {},
   "outputs": [
    {
     "data": {
      "image/png": "[encoded data removed]",
      "text/latex": [
       "$\\displaystyle x^{100} - 400 x^{99} + 79200 x^{98} - 10348800 x^{97} + 1003833600 x^{96} - 77094420480 x^{95} + 4882646630400 x^{94} - 262267876147200 x^{93} + 12195456240844800 x^{92} - 498658655181209600 x^{91} + 18151175048596029440 x^{90} - 594038456135870054400 x^{89} + 17623140865364144947200 x^{88} - 477180429585244540108800 x^{87} + 11861342106833221425561600 x^{86} - 272020112316708544692879360 x^{85} + 5780427386730056574723686400 x^{84} - 114248447173017588771009331200 x^{83} + 2107249136746768859554172108800 x^{82} - 36377774571207378207040444825600 x^{81} + 589319948053559526954055206174720 x^{80} - 8980113494149478505966555522662400 x^{79} + 128987084734147054903883252052787200 x^{78} - 1749737845089299179565720636542156800 x^{77} + 22454969011979339471093414835624345600 x^{76} - 273052423185668767968495924401192042496 x^{75} + 3150604882911562707328799127706062028800 x^{74} - 34539964642289724495160168214851642982400 x^{73} + 360202488412449984020956039954881419673600 x^{72} - 3577183333199503289587425500241580995379200 x^{71} + 33864002220955297808094294735620300089589760 x^{70} - 305868407157015593105367823418505936293068800 x^{69} + 2638115011729259490533797476984613700527718400 x^{68} - 21744463126980563073490694355751967471016345600 x^{67} + 171397532883258555991044296686515508300952371200 x^{66} - 1292827105176578822332448409292574119755755028480 x^{65} + 9337084648497513716845460733779701976013786316800 x^{64} - 64602531622036851662498322914800100158365656678400 x^{63} + 428416788651402279446041509856042769471266986393600 x^{62} - 2724291373988404238528674216520477098176261862195200 x^{61} + 16618177381329265855024912720774910298875197359390720 x^{60} - 97277135890707897687950708609414109066586521128140800 x^{59} + 546604858814453901294199219805279279517009975862886400 x^{58} - 2949123889417518723261726023135460298789449172097433600 x^{57} + 15281823790618051565992580301701930639181691164504883200 x^{56} - 76069522868854301128496399724027388070593307129979863040 x^{55} + 363810761546694483658026259549696203815881034099903692800 x^{54} - 1671981372214595924896461107717752766472985177991046758400 x^{53} + 7384584393947798668292703225753408051922351202793789849600 x^{52} - 31346807223288614755201678999116507648976511228185883443200 x^{51} + 127894973471017548201222850316395351207824165810998404448256 x^{50} - 501548915572617836083226863985864122383624179650974135091200 x^{49} + 1890453604850636459082932025792872461292121907915210201497600 x^{48} - 6848435700590984908375904697211915331473347289051327522406400 x^{47} + 23842702068724169681012408945848890413277579450771288411340800 x^{46} - 79764676011731767660114240837021742473510447617125764867031040 x^{45} + 256386458609137824621795774118998457950569295912189958501171200 x^{44} - 791649416056285212867299232367433835075442036500797064845721600 x^{43} + 2347649992442776838158197723572389993672000522036846468163174400 x^{42} - 6684833876786212013738596907799347778591459113596444180532428800 x^{41} + 18271879263215646170885498214651550594816654910496947426788638720 x^{40} - 47926240690401694874453765808922099920830570257041173578462003200 x^{39} + 120588605608107490329270765583739477220154338066103598036130201600 x^{38} - 290943937340195849683319942360768262499419990254726141293520486400 x^{37} + 672807855099202902392677366709276607029908727464054201741266124800 x^{36} - 1490528171296695660685316012402089714035490103920366231549881876480 x^{35} + 3161726423962687765090064268731705454014675978012898066923991859200 x^{34} - 6417832741177993075406697620112118533522327358354539359726311833600 x^{33} + 12458145909345515969907118909629406565072753107394105815939311206400 x^{32} - 23110763426032261509392916238153102033758150691977471658554084556800 x^{31} + 40939066640400006102353165907585495031228724082931521223724378357760 x^{30} - 69192788688000010313836336745214921179541505492278627420379231027200 x^{29} + 111477270664000016616736320311735150789261314404226677510610983321600 x^{28} - 171033620744767148781842025683758039567085852236621751797101782630400 x^{27} + 249616635681552054978904578024944165854665838399393908028202601676800 x^{26} - 346135068145085516237414348194589243318469962580492885799107607658496 x^{25} + 455440879138270416101860984466564793840092056026964323419878431129600 x^{24} - 567822394769791687607514993620652210501932952968682792835173108940800 x^{23} + 669739234856677375126812556578205171361254252219472012061999051571200 x^{22} - 746038641359336822926069683276988038984688280953335912170328057446400 x^{21} + 783340573427303664072373167440837440933922695001002707778844460318720 x^{20} - 773669702150423371923331523398357966354491550618274279287747615129600 x^{19} + 717059723944294832514307265588722017596845827402302990559375838412800 x^{18} - 622027712337219613747350880992626328517745777987539943617771811635200 x^{17} + 503546243320606353985950713184507027847698963132770430547720037990400 x^{16} - 379140700853162431236480536985981762144149807535262441824165675663360 x^{15} + 264516768037090068304521304873940764286616144792043564063371401625600 x^{14} - 170263666782494756609806816930352675862649472509821144684468948172800 x^{13} + 100610348553292356178522210004299308464292870119439767313549833011200 x^{12} - 54261761017505989849090630114678278722315255794754031809554966118400 x^{11} + 26527972053002928370666530278287158486465236166324193329115761213440 x^{10} - 11660647056265023459633639682763586147896807106076568496314620313600 x^{9} + 4562861891581965701595772049777055449177011476290831150731807948800 x^{8} - 1570016994952934434957685006374900799716821153132328998101267251200 x^{7} + 467664636794491108285267874239332153107138215826651190923781734400 x^{6} - 118146855611239858935225568228883912363908601893048721917586964480 x^{5} + 24613928252341637278171993381017481742480958727718483732830617600 x^{4} - 4060029402448105118048988598930718637935003501479337522941132800 x^{3} + 497146457442625116495794522318047180155306551201551533421363200 x^{2} - 40173451106474756888549052308529065063055074844569820882534400 x + 1606938044258990275541962092341162602522202993782792835301376$"
      ],
      "text/plain": [
       " 100        99          98             97               96                95  \n",
       "x    - 400⋅x   + 79200⋅x   - 10348800⋅x   + 1003833600⋅x   - 77094420480⋅x   +\n",
       "\n",
       "                94                    93                      92              \n",
       " 4882646630400⋅x   - 262267876147200⋅x   + 12195456240844800⋅x   - 49865865518\n",
       "\n",
       "         91                         90                          89            \n",
       "1209600⋅x   + 18151175048596029440⋅x   - 594038456135870054400⋅x   + 176231408\n",
       "\n",
       "                88                             87                             \n",
       "65364144947200⋅x   - 477180429585244540108800⋅x   + 11861342106833221425561600\n",
       "\n",
       "  86                                85                                 84     \n",
       "⋅x   - 272020112316708544692879360⋅x   + 5780427386730056574723686400⋅x   - 11\n",
       "\n",
       "                              83                                    82        \n",
       "4248447173017588771009331200⋅x   + 2107249136746768859554172108800⋅x   - 36377\n",
       "\n",
       "                             81                                      80       \n",
       "774571207378207040444825600⋅x   + 589319948053559526954055206174720⋅x   - 8980\n",
       "\n",
       "                                79                                         78 \n",
       "113494149478505966555522662400⋅x   + 128987084734147054903883252052787200⋅x   \n",
       "\n",
       "                                         77                                   \n",
       "- 1749737845089299179565720636542156800⋅x   + 22454969011979339471093414835624\n",
       "\n",
       "        76                                            75                      \n",
       "345600⋅x   - 273052423185668767968495924401192042496⋅x   + 3150604882911562707\n",
       "\n",
       "                       74                                              73     \n",
       "328799127706062028800⋅x   - 34539964642289724495160168214851642982400⋅x   + 36\n",
       "\n",
       "                                          72                                  \n",
       "0202488412449984020956039954881419673600⋅x   - 3577183333199503289587425500241\n",
       "\n",
       "              71                                                 70           \n",
       "580995379200⋅x   + 33864002220955297808094294735620300089589760⋅x   - 30586840\n",
       "\n",
       "                                       69                                     \n",
       "7157015593105367823418505936293068800⋅x   + 2638115011729259490533797476984613\n",
       "\n",
       "              68                                                    67        \n",
       "700527718400⋅x   - 21744463126980563073490694355751967471016345600⋅x   + 17139\n",
       "\n",
       "                                             66                               \n",
       "7532883258555991044296686515508300952371200⋅x   - 1292827105176578822332448409\n",
       "\n",
       "                       65                                                     \n",
       "292574119755755028480⋅x   + 9337084648497513716845460733779701976013786316800⋅\n",
       "\n",
       " 64                                                       63                  \n",
       "x   - 64602531622036851662498322914800100158365656678400⋅x   + 428416788651402\n",
       "\n",
       "                                      62                                      \n",
       "279446041509856042769471266986393600⋅x   - 27242913739884042385286742165204770\n",
       "\n",
       "                   61                                                         \n",
       "98176261862195200⋅x   + 16618177381329265855024912720774910298875197359390720⋅\n",
       "\n",
       " 60                                                          59               \n",
       "x   - 97277135890707897687950708609414109066586521128140800⋅x   + 546604858814\n",
       "\n",
       "                                            58                                \n",
       "453901294199219805279279517009975862886400⋅x   - 29491238894175187232617260231\n",
       "\n",
       "                            57                                                \n",
       "35460298789449172097433600⋅x   + 152818237906180515659925803017019306391816911\n",
       "\n",
       "             56                                                             55\n",
       "64504883200⋅x   - 76069522868854301128496399724027388070593307129979863040⋅x  \n",
       "\n",
       "                                                              54              \n",
       " + 363810761546694483658026259549696203815881034099903692800⋅x   - 16719813722\n",
       "\n",
       "                                                 53                           \n",
       "14595924896461107717752766472985177991046758400⋅x   + 738458439394779866829270\n",
       "\n",
       "                                    52                                        \n",
       "3225753408051922351202793789849600⋅x   - 3134680722328861475520167899911650764\n",
       "\n",
       "                        51                                                    \n",
       "8976511228185883443200⋅x   + 1278949734710175482012228503163953512078241658109\n",
       "\n",
       "             50                                                               \n",
       "98404448256⋅x   - 501548915572617836083226863985864122383624179650974135091200\n",
       "\n",
       "  49                                                                  48      \n",
       "⋅x   + 1890453604850636459082932025792872461292121907915210201497600⋅x   - 684\n",
       "\n",
       "                                                            47                \n",
       "8435700590984908375904697211915331473347289051327522406400⋅x   + 2384270206872\n",
       "\n",
       "                                                   46                         \n",
       "4169681012408945848890413277579450771288411340800⋅x   - 7976467601173176766011\n",
       "\n",
       "                                          45                                  \n",
       "4240837021742473510447617125764867031040⋅x   + 2563864586091378246217957741189\n",
       "\n",
       "                                  44                                          \n",
       "98457950569295912189958501171200⋅x   - 791649416056285212867299232367433835075\n",
       "\n",
       "                          43                                                  \n",
       "442036500797064845721600⋅x   + 23476499924427768381581977235723899936720005220\n",
       "\n",
       "                   42                                                         \n",
       "36846468163174400⋅x   - 668483387678621201373859690779934777859145911359644418\n",
       "\n",
       "            41                                                                \n",
       "0532428800⋅x   + 1827187926321564617088549821465155059481665491049694742678863\n",
       "\n",
       "      40                                                                      \n",
       "8720⋅x   - 47926240690401694874453765808922099920830570257041173578462003200⋅x\n",
       "\n",
       "39                                                                       38   \n",
       "   + 120588605608107490329270765583739477220154338066103598036130201600⋅x   - \n",
       "\n",
       "                                                                    37        \n",
       "290943937340195849683319942360768262499419990254726141293520486400⋅x   + 67280\n",
       "\n",
       "                                                               36             \n",
       "7855099202902392677366709276607029908727464054201741266124800⋅x   - 1490528171\n",
       "\n",
       "                                                           35                 \n",
       "296695660685316012402089714035490103920366231549881876480⋅x   + 31617264239626\n",
       "\n",
       "                                                       34                     \n",
       "87765090064268731705454014675978012898066923991859200⋅x   - 641783274117799307\n",
       "\n",
       "                                                   33                         \n",
       "5406697620112118533522327358354539359726311833600⋅x   + 1245814590934551596990\n",
       "\n",
       "                                                32                            \n",
       "7118909629406565072753107394105815939311206400⋅x   - 2311076342603226150939291\n",
       "\n",
       "                                             31                               \n",
       "6238153102033758150691977471658554084556800⋅x   + 4093906664040000610235316590\n",
       "\n",
       "                                          30                                  \n",
       "7585495031228724082931521223724378357760⋅x   - 6919278868800001031383633674521\n",
       "\n",
       "                                       29                                     \n",
       "4921179541505492278627420379231027200⋅x   + 1114772706640000166167363203117351\n",
       "\n",
       "                                     28                                       \n",
       "50789261314404226677510610983321600⋅x   - 171033620744767148781842025683758039\n",
       "\n",
       "                                   27                                         \n",
       "567085852236621751797101782630400⋅x   + 24961663568155205497890457802494416585\n",
       "\n",
       "                                 26                                           \n",
       "4665838399393908028202601676800⋅x   - 3461350681450855162374143481945892433184\n",
       "\n",
       "                               25                                             \n",
       "69962580492885799107607658496⋅x   + 455440879138270416101860984466564793840092\n",
       "\n",
       "                             24                                               \n",
       "056026964323419878431129600⋅x   - 56782239476979168760751499362065221050193295\n",
       "\n",
       "                           23                                                 \n",
       "2968682792835173108940800⋅x   + 6697392348566773751268125565782051713612542522\n",
       "\n",
       "                         22                                                   \n",
       "19472012061999051571200⋅x   - 746038641359336822926069683276988038984688280953\n",
       "\n",
       "                       21                                                     \n",
       "335912170328057446400⋅x   + 78334057342730366407237316744083744093392269500100\n",
       "\n",
       "                     20                                                       \n",
       "2707778844460318720⋅x   - 7736697021504233719233315233983579663544915506182742\n",
       "\n",
       "                   19                                                         \n",
       "79287747615129600⋅x   + 717059723944294832514307265588722017596845827402302990\n",
       "\n",
       "                 18                                                           \n",
       "559375838412800⋅x   - 62202771233721961374735088099262632851774577798753994361\n",
       "\n",
       "               17                                                             \n",
       "7771811635200⋅x   + 5035462433206063539859507131845070278476989631327704305477\n",
       "\n",
       "             16                                                               \n",
       "20037990400⋅x   - 379140700853162431236480536985981762144149807535262441824165\n",
       "\n",
       "           15                                                                 \n",
       "675663360⋅x   + 26451676803709006830452130487394076428661614479204356406337140\n",
       "\n",
       "         14                                                                   \n",
       "1625600⋅x   - 1702636667824947566098068169303526758626494725098211446844689481\n",
       "\n",
       "       13                                                                     \n",
       "72800⋅x   + 100610348553292356178522210004299308464292870119439767313549833011\n",
       "\n",
       "     12                                                                       \n",
       "200⋅x   - 54261761017505989849090630114678278722315255794754031809554966118400\n",
       "\n",
       "  11                                                                         1\n",
       "⋅x   + 26527972053002928370666530278287158486465236166324193329115761213440⋅x \n",
       "\n",
       "0                                                                         9   \n",
       "  - 11660647056265023459633639682763586147896807106076568496314620313600⋅x  + \n",
       "\n",
       "                                                                     8        \n",
       "4562861891581965701595772049777055449177011476290831150731807948800⋅x  - 15700\n",
       "\n",
       "                                                                7             \n",
       "16994952934434957685006374900799716821153132328998101267251200⋅x  + 4676646367\n",
       "\n",
       "                                                          6                   \n",
       "94491108285267874239332153107138215826651190923781734400⋅x  - 1181468556112398\n",
       "\n",
       "                                                    5                         \n",
       "58935225568228883912363908601893048721917586964480⋅x  + 2461392825234163727817\n",
       "\n",
       "                                             4                                \n",
       "1993381017481742480958727718483732830617600⋅x  - 40600294024481051180489885989\n",
       "\n",
       "                                     3                                        \n",
       "30718637935003501479337522941132800⋅x  + 4971464574426251164957945223180471801\n",
       "\n",
       "                            2                                                 \n",
       "55306551201551533421363200⋅x  - 4017345110647475688854905230852906506305507484\n",
       "\n",
       "                                                                              \n",
       "4569820882534400⋅x + 160693804425899027554196209234116260252220299378279283530\n",
       "\n",
       "    \n",
       "1376"
      ]
     },
     "execution_count": 29,
     "metadata": {},
     "output_type": "execute_result"
    }
   ],
   "source": [
    "sp.expand((x-4)**100)     # 表达式展开"
   ]
  },
  {
   "cell_type": "code",
   "execution_count": 30,
   "metadata": {},
   "outputs": [
    {
     "data": {
      "image/png": "[encoded data removed]",
      "text/latex": [
       "$\\displaystyle a b + x^{2} + x \\left(a + b\\right)$"
      ],
      "text/plain": [
       "       2            \n",
       "a⋅b + x  + x⋅(a + b)"
      ]
     },
     "execution_count": 30,
     "metadata": {},
     "output_type": "execute_result"
    }
   ],
   "source": [
    "b = sp.Symbol('b')                      # 符号a在前面已经定义过了（变量均需提前定义）\n",
    "sp.collect(x**2 + x*b + a*x + a*b, x)   # 关于x的不同幂次合并同类项"
   ]
  },
  {
   "cell_type": "markdown",
   "metadata": {},
   "source": [
    "若将给定的值代入到表达式中，使用.subs()方法，对于想要的符号-值代换，传递一个python字典对象{key: val, ... }："
   ]
  },
  {
   "cell_type": "code",
   "execution_count": 31,
   "metadata": {},
   "outputs": [
    {
     "data": {
      "image/png": "[encoded data removed]",
      "text/latex": [
       "$\\displaystyle \\sin{\\left(x \\right)} + \\cos{\\left(y \\right)}$"
      ],
      "text/plain": [
       "sin(x) + cos(y)"
      ]
     },
     "execution_count": 31,
     "metadata": {},
     "output_type": "execute_result"
    }
   ],
   "source": [
    "expr = sp.sin(x) + sp.cos(y)\n",
    "expr"
   ]
  },
  {
   "cell_type": "code",
   "execution_count": 32,
   "metadata": {},
   "outputs": [
    {
     "data": {
      "image/png": "[encoded data removed]",
      "text/latex": [
       "$\\displaystyle \\cos{\\left(2 \\right)} + \\sin{\\left(1 \\right)}$"
      ],
      "text/plain": [
       "cos(2) + sin(1)"
      ]
     },
     "execution_count": 32,
     "metadata": {},
     "output_type": "execute_result"
    }
   ],
   "source": [
    "expr.subs({x:1, y:2})   # 精确代换"
   ]
  },
  {
   "cell_type": "code",
   "execution_count": 33,
   "metadata": {
    "scrolled": true
   },
   "outputs": [
    {
     "data": {
      "image/png": "[encoded data removed]",
      "text/latex": [
       "$\\displaystyle 0.425324148260754$"
      ],
      "text/plain": [
       "0.425324148260754"
      ]
     },
     "execution_count": 33,
     "metadata": {},
     "output_type": "execute_result"
    }
   ],
   "source": [
    "expr.subs({x:1, y:2}).n()  # 使用.n()方法计算出近似值"
   ]
  },
  {
   "cell_type": "markdown",
   "metadata": {},
   "source": [
    "### 1.4 解方程"
   ]
  },
  {
   "cell_type": "markdown",
   "metadata": {},
   "source": [
    "函数solve是SymPy核心函数之一，该函数知道如何解所有类型的方程，而且能解得相当好！\n",
    "\n",
    "函数solve取两个参数，使用solve(expr,var)关于变量var解解方程expr == 0。\n",
    "\n",
    "你可以将任何方程重写为expr == 0的形式。例如，$A(x) = B(x)$的解与$A(x) − B(x) = 0$的解相同。\n",
    "\n",
    "比如，要接二次方程$x^2 + 2x − 8 = 0$, 使用下列指令："
   ]
  },
  {
   "cell_type": "code",
   "execution_count": 34,
   "metadata": {},
   "outputs": [
    {
     "data": {
      "image/png": "[encoded data removed]",
      "text/latex": [
       "$\\displaystyle \\left[ -4, \\  2\\right]$"
      ],
      "text/plain": [
       "[-4, 2]"
      ]
     },
     "execution_count": 34,
     "metadata": {},
     "output_type": "execute_result"
    }
   ],
   "source": [
    "sp.solve( x**2 + 2*x - 8, x)"
   ]
  },
  {
   "cell_type": "markdown",
   "metadata": {},
   "source": [
    "用solve和SymPy解方程最妙的地方是我们得到符号答案。\n",
    "\n",
    "例如，我们可以解出带有参数的二次方程$ax^2 + bx + c = 0$如下："
   ]
  },
  {
   "cell_type": "code",
   "execution_count": 35,
   "metadata": {},
   "outputs": [
    {
     "data": {
      "image/png": "[encoded data removed]",
      "text/latex": [
       "$\\displaystyle \\left[ \\frac{- b + \\sqrt{- 4 a c + b^{2}}}{2 a}, \\  - \\frac{b + \\sqrt{- 4 a c + b^{2}}}{2 a}\\right]$"
      ],
      "text/plain": [
       "⎡        _____________   ⎛       _____________⎞ ⎤\n",
       "⎢       ╱           2    ⎜      ╱           2 ⎟ ⎥\n",
       "⎢-b + ╲╱  -4⋅a⋅c + b    -⎝b + ╲╱  -4⋅a⋅c + b  ⎠ ⎥\n",
       "⎢─────────────────────, ────────────────────────⎥\n",
       "⎣         2⋅a                     2⋅a           ⎦"
      ]
     },
     "execution_count": 35,
     "metadata": {},
     "output_type": "execute_result"
    }
   ],
   "source": [
    "a, b, c = sp.symbols('a b c')\n",
    "sp.solve(a*x**2 + b*x + c, x)"
   ]
  },
  {
   "cell_type": "markdown",
   "metadata": {},
   "source": [
    "要从一元二次方程的一般求解公式得到一个特殊方程的解，比如$x^2 + 2x − 8 = 0$，我们可以在一般解公式中使用系数代换$a = 1, b = 2, c = −8$："
   ]
  },
  {
   "cell_type": "code",
   "execution_count": 36,
   "metadata": {},
   "outputs": [
    {
     "data": {
      "image/png": "[encoded data removed]",
      "text/latex": [
       "$\\displaystyle \\left[ 2, \\  -4\\right]$"
      ],
      "text/plain": [
       "[2, -4]"
      ]
     },
     "execution_count": 36,
     "metadata": {},
     "output_type": "execute_result"
    }
   ],
   "source": [
    "gen_sol = sp.solve(a*x**2 + b*x + c, x)\n",
    "[gen_sol[0].subs({'a':1,'b':2,'c':-8}),\n",
    " gen_sol[1].subs({'a':1,'b':2,'c':-8})]"
   ]
  },
  {
   "cell_type": "markdown",
   "metadata": {},
   "source": [
    "如要求解方程组，可以给solve的第一个参数提供方程的列表，并为第二个参数指定要解的未知量列表\n",
    "\n",
    "例如，要关于$x$和$y$求解方程组$x + y = 3,3x − 2y = 0$："
   ]
  },
  {
   "cell_type": "code",
   "execution_count": 37,
   "metadata": {},
   "outputs": [
    {
     "data": {
      "image/png": "[encoded data removed]",
      "text/latex": [
       "$\\displaystyle \\left\\{ x : \\frac{6}{5}, \\  y : \\frac{9}{5}\\right\\}$"
      ],
      "text/plain": [
       "{x: 6/5, y: 9/5}"
      ]
     },
     "execution_count": 37,
     "metadata": {},
     "output_type": "execute_result"
    }
   ],
   "source": [
    "sp.solve([x + y - 3, 3*x - 2*y], [x, y])"
   ]
  },
  {
   "cell_type": "markdown",
   "metadata": {},
   "source": [
    "假设你要求表达式$x^2 − 4x + 7$的完全平方，即找出常数$h,k$，使得\n",
    "$$x^2−4x+7 = (x−h)^2 + k.$$ \n",
    "\n",
    "SymPy中没有专门的“完全平方”函数，但是可以通过求解方程\n",
    "$$(x − h)^2 + k − (x^2 − 4x + 7) = 0$$\n",
    "来找出未知的$h$和$k$："
   ]
  },
  {
   "cell_type": "code",
   "execution_count": 39,
   "metadata": {},
   "outputs": [
    {
     "data": {
      "image/png": "[encoded data removed]",
      "text/latex": [
       "$\\displaystyle \\left[ \\left( 2, \\  3\\right)\\right]$"
      ],
      "text/plain": [
       "[(2, 3)]"
      ]
     },
     "execution_count": 39,
     "metadata": {},
     "output_type": "execute_result"
    }
   ],
   "source": [
    "h, k = sp.symbols('h k')\n",
    "sp.solve((x - h)**2 + k - (x**2 - 4*x + 7),[h,k]) # 解出h和k的值\n",
    "#((x - 2)**2 + 3).expand()   # 验证一下"
   ]
  },
  {
   "cell_type": "markdown",
   "metadata": {},
   "source": [
    "### 1.5 有理函数"
   ]
  },
  {
   "cell_type": "markdown",
   "metadata": {},
   "source": [
    "默认情况下，SymPy不会对有理表达式进行组合或分解。\n",
    "\n",
    "如果要符号计算分式的加法，需要使用together函数："
   ]
  },
  {
   "cell_type": "code",
   "execution_count": 40,
   "metadata": {},
   "outputs": [
    {
     "data": {
      "image/png": "[encoded data removed]",
      "text/latex": [
       "$\\displaystyle \\frac{a}{b} + \\frac{c}{d}$"
      ],
      "text/plain": [
       "a   c\n",
       "─ + ─\n",
       "b   d"
      ]
     },
     "execution_count": 40,
     "metadata": {},
     "output_type": "execute_result"
    }
   ],
   "source": [
    "a, b, c, d = sp.symbols('a b c d')\n",
    "a/b + c/d"
   ]
  },
  {
   "cell_type": "code",
   "execution_count": 41,
   "metadata": {},
   "outputs": [
    {
     "data": {
      "image/png": "[encoded data removed]",
      "text/latex": [
       "$\\displaystyle \\frac{a d + b c}{b d}$"
      ],
      "text/plain": [
       "a⋅d + b⋅c\n",
       "─────────\n",
       "   b⋅d   "
      ]
     },
     "execution_count": 41,
     "metadata": {},
     "output_type": "execute_result"
    }
   ],
   "source": [
    "sp.together(a/b + c/d)"
   ]
  },
  {
   "cell_type": "markdown",
   "metadata": {},
   "source": [
    "如果你想将一个写成分子除以分母形式的有理表达式化成最简分式，使用apart函数："
   ]
  },
  {
   "cell_type": "code",
   "execution_count": 42,
   "metadata": {},
   "outputs": [
    {
     "data": {
      "image/png": "[encoded data removed]",
      "text/latex": [
       "$\\displaystyle x - 1 + \\frac{6}{x + 2}$"
      ],
      "text/plain": [
       "          6  \n",
       "x - 1 + ─────\n",
       "        x + 2"
      ]
     },
     "execution_count": 42,
     "metadata": {},
     "output_type": "execute_result"
    }
   ],
   "source": [
    "sp.apart((x**2+x+4)/(x+2))"
   ]
  },
  {
   "cell_type": "markdown",
   "metadata": {},
   "source": [
    "### 1.6 指数函数与对数函数"
   ]
  },
  {
   "cell_type": "markdown",
   "metadata": {},
   "source": [
    "欧拉常数$e = 2.71828...$，在SymPy中记为E。\n",
    "\n",
    "可以用几种方式来定义欧拉常数：\n",
    "$$e = \\lim_{n \\to \\infty}(1 + {\\frac 1 n})^n,$$\n",
    "$$e = \\lim_{\\varepsilon \\to 0}(1 + \\varepsilon)^{\\frac 1 \\varepsilon},$$\n",
    "$$e = \\sum_{n = 0}^{\\infty}{\\frac 1 {n!}}.$$\n",
    "\n",
    "函数$exp(x)$等价于$E**x.$，函数$log$和$ln$都是以$e$为底的对数。"
   ]
  },
  {
   "cell_type": "code",
   "execution_count": 43,
   "metadata": {},
   "outputs": [
    {
     "data": {
      "image/png": "[encoded data removed]",
      "text/latex": [
       "$\\displaystyle 3$"
      ],
      "text/plain": [
       "3"
      ]
     },
     "execution_count": 43,
     "metadata": {},
     "output_type": "execute_result"
    }
   ],
   "source": [
    "sp.log(sp.E**3) # 与sp.ln(E**3)相同"
   ]
  },
  {
   "cell_type": "markdown",
   "metadata": {},
   "source": [
    "缺省情况下，SymPy假定像exp和log这样的函数输入都是复数，因此不会展开确定的对数表达式。\n",
    "\n",
    "可以指示SymPy输入是正实数，这样展开就正常工作了："
   ]
  },
  {
   "cell_type": "code",
   "execution_count": 44,
   "metadata": {},
   "outputs": [
    {
     "data": {
      "image/png": "[encoded data removed]",
      "text/latex": [
       "$\\displaystyle \\log{\\left(x y \\right)}$"
      ],
      "text/plain": [
       "log(x⋅y)"
      ]
     },
     "execution_count": 44,
     "metadata": {},
     "output_type": "execute_result"
    }
   ],
   "source": [
    "x, y = sp.symbols('x y')\n",
    "sp.log(x*y).expand()"
   ]
  },
  {
   "cell_type": "code",
   "execution_count": 45,
   "metadata": {},
   "outputs": [
    {
     "data": {
      "image/png": "[encoded data removed]",
      "text/latex": [
       "$\\displaystyle \\log{\\left(a \\right)} + \\log{\\left(b \\right)}$"
      ],
      "text/plain": [
       "log(a) + log(b)"
      ]
     },
     "execution_count": 45,
     "metadata": {},
     "output_type": "execute_result"
    }
   ],
   "source": [
    "a, b = sp.symbols('a b', positive=True)\n",
    "sp.log(a*b).expand()"
   ]
  },
  {
   "cell_type": "markdown",
   "metadata": {},
   "source": [
    "### 1.7 多项式"
   ]
  },
  {
   "cell_type": "markdown",
   "metadata": {
    "collapsed": true
   },
   "source": [
    "一个多项式$P$的根是方程$P(x) = 0$的解。\n",
    "我们定义一个多项式$P$，具有三个根$x = 1, x = 2, x = 3$："
   ]
  },
  {
   "cell_type": "code",
   "execution_count": 46,
   "metadata": {},
   "outputs": [
    {
     "data": {
      "image/png": "[encoded data removed]",
      "text/latex": [
       "$\\displaystyle \\left(x - 3\\right) \\left(x - 2\\right) \\left(x - 1\\right)$"
      ],
      "text/plain": [
       "(x - 3)⋅(x - 2)⋅(x - 1)"
      ]
     },
     "execution_count": 46,
     "metadata": {},
     "output_type": "execute_result"
    }
   ],
   "source": [
    "P = (x-1)*(x-2)*(x-3)\n",
    "P"
   ]
  },
  {
   "cell_type": "code",
   "execution_count": 47,
   "metadata": {},
   "outputs": [
    {
     "data": {
      "image/png": "[encoded data removed]",
      "text/latex": [
       "$\\displaystyle x^{3} - 6 x^{2} + 11 x - 6$"
      ],
      "text/plain": [
       " 3      2           \n",
       "x  - 6⋅x  + 11⋅x - 6"
      ]
     },
     "execution_count": 47,
     "metadata": {},
     "output_type": "execute_result"
    }
   ],
   "source": [
    "P.expand()       # .expand方法将多项式展开"
   ]
  },
  {
   "cell_type": "markdown",
   "metadata": {},
   "source": [
    "要将多项式分解成因式的乘积，调用factor方法，或者用simplify化简："
   ]
  },
  {
   "cell_type": "code",
   "execution_count": 48,
   "metadata": {},
   "outputs": [
    {
     "data": {
      "image/png": "[encoded data removed]",
      "text/latex": [
       "$\\displaystyle \\left(x - 3\\right) \\left(x - 2\\right) \\left(x - 1\\right)$"
      ],
      "text/plain": [
       "(x - 3)⋅(x - 2)⋅(x - 1)"
      ]
     },
     "execution_count": 48,
     "metadata": {},
     "output_type": "execute_result"
    }
   ],
   "source": [
    "P.factor()"
   ]
  },
  {
   "cell_type": "code",
   "execution_count": 49,
   "metadata": {},
   "outputs": [
    {
     "data": {
      "image/png": "[encoded data removed]",
      "text/latex": [
       "$\\displaystyle \\left(x - 3\\right) \\left(x - 2\\right) \\left(x - 1\\right)$"
      ],
      "text/plain": [
       "(x - 3)⋅(x - 2)⋅(x - 1)"
      ]
     },
     "execution_count": 49,
     "metadata": {},
     "output_type": "execute_result"
    }
   ],
   "source": [
    "P.simplify()"
   ]
  },
  {
   "cell_type": "markdown",
   "metadata": {},
   "source": [
    "可以使用solve函数找到多项式的根："
   ]
  },
  {
   "cell_type": "code",
   "execution_count": 50,
   "metadata": {},
   "outputs": [
    {
     "data": {
      "image/png": "[encoded data removed]",
      "text/latex": [
       "$\\displaystyle \\left[ 1, \\  2, \\  3\\right]$"
      ],
      "text/plain": [
       "[1, 2, 3]"
      ]
     },
     "execution_count": 50,
     "metadata": {},
     "output_type": "execute_result"
    }
   ],
   "source": [
    "roots = sp.solve(P,x)\n",
    "roots"
   ]
  },
  {
   "cell_type": "code",
   "execution_count": 51,
   "metadata": {},
   "outputs": [
    {
     "data": {
      "image/png": "[encoded data removed]",
      "text/latex": [
       "$\\displaystyle 0$"
      ],
      "text/plain": [
       "0"
      ]
     },
     "execution_count": 51,
     "metadata": {},
     "output_type": "execute_result"
    }
   ],
   "source": [
    "sp.simplify(P - (x-roots[0])*(x-roots[1])*(x-roots[2]))   # 验证一下！"
   ]
  },
  {
   "cell_type": "markdown",
   "metadata": {},
   "source": [
    "### 1.8 等式验证"
   ]
  },
  {
   "cell_type": "markdown",
   "metadata": {},
   "source": [
    "在上面的例子中，我们使用simplify函数检验两个表达式是否相等。这种检验等式方法之所以有效是因为\n",
    "$P = Q$当且仅当$P − Q = 0$。\n",
    "\n",
    "这是用SymPy检验两个表达式是否相等的最佳方式，因为在比较表达式时算法会尝试所有可能的化简。\n",
    "\n",
    "下面是检验两个量是否相等或不等的一些例子："
   ]
  },
  {
   "cell_type": "code",
   "execution_count": 52,
   "metadata": {},
   "outputs": [
    {
     "data": {
      "text/plain": [
       "False"
      ]
     },
     "execution_count": 52,
     "metadata": {},
     "output_type": "execute_result"
    }
   ],
   "source": [
    "p = (x - 5)*(x + 5)\n",
    "q = x**2 - 25\n",
    "p == q                  # 作为表达式，p,q是不同的！"
   ]
  },
  {
   "cell_type": "code",
   "execution_count": 53,
   "metadata": {},
   "outputs": [
    {
     "data": {
      "text/plain": [
       "False"
      ]
     },
     "execution_count": 53,
     "metadata": {},
     "output_type": "execute_result"
    }
   ],
   "source": [
    "p - q == 0"
   ]
  },
  {
   "cell_type": "code",
   "execution_count": 54,
   "metadata": {},
   "outputs": [
    {
     "data": {
      "text/plain": [
       "True"
      ]
     },
     "execution_count": 54,
     "metadata": {},
     "output_type": "execute_result"
    }
   ],
   "source": [
    "sp.simplify(p - q) == 0    # 化简后p,q相同！"
   ]
  },
  {
   "cell_type": "code",
   "execution_count": 55,
   "metadata": {},
   "outputs": [
    {
     "data": {
      "text/plain": [
       "False"
      ]
     },
     "execution_count": 55,
     "metadata": {},
     "output_type": "execute_result"
    }
   ],
   "source": [
    "sp.sin(x)**2 + sp.cos(x)**2 == 1"
   ]
  },
  {
   "cell_type": "code",
   "execution_count": 56,
   "metadata": {},
   "outputs": [
    {
     "data": {
      "text/plain": [
       "True"
      ]
     },
     "execution_count": 56,
     "metadata": {},
     "output_type": "execute_result"
    }
   ],
   "source": [
    "sp.simplify(sp.sin(x)**2 + sp.cos(x)**2 - 1 ) == 0"
   ]
  },
  {
   "cell_type": "code",
   "execution_count": 57,
   "metadata": {},
   "outputs": [
    {
     "data": {
      "text/plain": [
       "True"
      ]
     },
     "execution_count": 57,
     "metadata": {},
     "output_type": "execute_result"
    }
   ],
   "source": [
    "sp.simplify(sp.sin(x)**2 + sp.cos(x)**2 ) == 1    # 不移项也行"
   ]
  },
  {
   "cell_type": "markdown",
   "metadata": {},
   "source": [
    "### 1.9 三角函数"
   ]
  },
  {
   "cell_type": "code",
   "execution_count": 58,
   "metadata": {},
   "outputs": [],
   "source": [
    "from sympy import sin, cos, tan, trigsimp, expand_trig"
   ]
  },
  {
   "cell_type": "markdown",
   "metadata": {},
   "source": [
    "三角函数sin和cos的输入为弧度，如果使用角度要乘以转换因子$\\frac \\pi {180}$："
   ]
  },
  {
   "cell_type": "code",
   "execution_count": 59,
   "metadata": {},
   "outputs": [
    {
     "data": {
      "image/png": "[encoded data removed]",
      "text/latex": [
       "$\\displaystyle \\frac{1}{2}$"
      ],
      "text/plain": [
       "1/2"
      ]
     },
     "execution_count": 59,
     "metadata": {},
     "output_type": "execute_result"
    }
   ],
   "source": [
    "sin(sp.pi/6)           # 为什么要写成sp.pi/6 ？"
   ]
  },
  {
   "cell_type": "code",
   "execution_count": 60,
   "metadata": {},
   "outputs": [
    {
     "data": {
      "image/png": "[encoded data removed]",
      "text/latex": [
       "$\\displaystyle \\frac{\\sqrt{3}}{2}$"
      ],
      "text/plain": [
       "√3\n",
       "──\n",
       "2 "
      ]
     },
     "execution_count": 60,
     "metadata": {},
     "output_type": "execute_result"
    }
   ],
   "source": [
    "cos(sp.pi/6)"
   ]
  },
  {
   "cell_type": "code",
   "execution_count": 62,
   "metadata": {},
   "outputs": [
    {
     "data": {
      "image/png": "[encoded data removed]",
      "text/latex": [
       "$\\displaystyle \\frac{1}{2}$"
      ],
      "text/plain": [
       "1/2"
      ]
     },
     "execution_count": 62,
     "metadata": {},
     "output_type": "execute_result"
    }
   ],
   "source": [
    "sin(30*sp.pi/180)   # 30度 = pi/6弧度 = 180度/6"
   ]
  },
  {
   "cell_type": "markdown",
   "metadata": {},
   "source": [
    "反三角函数$\\sin^{−1}(x) = \\arcsin(x), \\cos^{−1}(x) = \\arccos(x)$在Sympy中分别表示为asin, acos。"
   ]
  },
  {
   "cell_type": "code",
   "execution_count": 65,
   "metadata": {},
   "outputs": [
    {
     "data": {
      "image/png": "[encoded data removed]",
      "text/latex": [
       "$\\displaystyle 0.523598775598299$"
      ],
      "text/plain": [
       "0.523598775598299"
      ]
     },
     "execution_count": 65,
     "metadata": {},
     "output_type": "execute_result"
    }
   ],
   "source": [
    "sp.asin(1/2)"
   ]
  },
  {
   "cell_type": "code",
   "execution_count": 66,
   "metadata": {},
   "outputs": [
    {
     "data": {
      "image/png": "[encoded data removed]",
      "text/latex": [
       "$\\displaystyle \\frac{\\pi}{6}$"
      ],
      "text/plain": [
       "π\n",
       "─\n",
       "6"
      ]
     },
     "execution_count": 66,
     "metadata": {},
     "output_type": "execute_result"
    }
   ],
   "source": [
    "sp.acos(sp.sqrt(3)/2)"
   ]
  },
  {
   "cell_type": "markdown",
   "metadata": {},
   "source": [
    "正切函数$\\tan(x)= \\frac {\\sin(x)} {\\cos(x)}.$ \n",
    "\n",
    "$\\tan(x)$的反函数为$\\tan^{−1}(x)= \\arctan(x)$，在Sympy中表示为atan(x)。\n",
    "\n",
    "函数acos返回范围$[0,\\pi]$之间的一个值，而asin和atan返回$[-\\frac {\\pi} 2,\\frac {\\pi} 2]$之间的一个值。"
   ]
  },
  {
   "cell_type": "code",
   "execution_count": 67,
   "metadata": {},
   "outputs": [
    {
     "data": {
      "image/png": "[encoded data removed]",
      "text/latex": [
       "$\\displaystyle \\frac{\\sqrt{3}}{3}$"
      ],
      "text/plain": [
       "√3\n",
       "──\n",
       "3 "
      ]
     },
     "execution_count": 67,
     "metadata": {},
     "output_type": "execute_result"
    }
   ],
   "source": [
    "tan(sp.pi/6)"
   ]
  },
  {
   "cell_type": "code",
   "execution_count": 68,
   "metadata": {},
   "outputs": [
    {
     "data": {
      "image/png": "[encoded data removed]",
      "text/latex": [
       "$\\displaystyle \\frac{\\pi}{6}$"
      ],
      "text/plain": [
       "π\n",
       "─\n",
       "6"
      ]
     },
     "execution_count": 68,
     "metadata": {},
     "output_type": "execute_result"
    }
   ],
   "source": [
    "sp.atan(1/sp.sqrt(3))"
   ]
  },
  {
   "cell_type": "markdown",
   "metadata": {},
   "source": [
    "下面是SymPy知道的一些三角恒等式："
   ]
  },
  {
   "cell_type": "code",
   "execution_count": 69,
   "metadata": {},
   "outputs": [
    {
     "data": {
      "text/plain": [
       "True"
      ]
     },
     "execution_count": 69,
     "metadata": {},
     "output_type": "execute_result"
    }
   ],
   "source": [
    "sp.sin(x) == sp.cos(x - sp.pi/2)"
   ]
  },
  {
   "cell_type": "code",
   "execution_count": 70,
   "metadata": {},
   "outputs": [
    {
     "data": {
      "image/png": "[encoded data removed]",
      "text/latex": [
       "$\\displaystyle \\sin{\\left(x + y \\right)}$"
      ],
      "text/plain": [
       "sin(x + y)"
      ]
     },
     "execution_count": 70,
     "metadata": {},
     "output_type": "execute_result"
    }
   ],
   "source": [
    "sp.simplify(sp.sin(x)*sp.cos(y) + sp.cos(x)*sp.sin(y))  # sinxcosy+cosxsiny = sin(x+y)"
   ]
  },
  {
   "cell_type": "markdown",
   "metadata": {},
   "source": [
    "对三角函数而言，trigsimp与simplify的作用基本相同。"
   ]
  },
  {
   "cell_type": "code",
   "execution_count": 71,
   "metadata": {},
   "outputs": [
    {
     "data": {
      "image/png": "[encoded data removed]",
      "text/latex": [
       "$\\displaystyle 2$"
      ],
      "text/plain": [
       "2"
      ]
     },
     "execution_count": 71,
     "metadata": {},
     "output_type": "execute_result"
    }
   ],
   "source": [
    "e = 2*sin(x)**2 + 2*cos(x)**2\n",
    "trigsimp(e)"
   ]
  },
  {
   "cell_type": "code",
   "execution_count": 72,
   "metadata": {},
   "outputs": [
    {
     "data": {
      "image/png": "[encoded data removed]",
      "text/latex": [
       "$\\displaystyle \\log{\\left(2 \\right)}$"
      ],
      "text/plain": [
       "log(2)"
      ]
     },
     "execution_count": 72,
     "metadata": {},
     "output_type": "execute_result"
    }
   ],
   "source": [
    "trigsimp(sp.log(e))"
   ]
  },
  {
   "cell_type": "code",
   "execution_count": 73,
   "metadata": {},
   "outputs": [
    {
     "data": {
      "image/png": "[encoded data removed]",
      "text/latex": [
       "$\\displaystyle \\frac{\\cos{\\left(4 x \\right)}}{2} + \\frac{1}{2}$"
      ],
      "text/plain": [
       "cos(4⋅x)   1\n",
       "──────── + ─\n",
       "   2       2"
      ]
     },
     "execution_count": 73,
     "metadata": {},
     "output_type": "execute_result"
    }
   ],
   "source": [
    "sp.simplify(sin(x)**4 - 2*cos(x)**2*sin(x)**2 + cos(x)**4)"
   ]
  },
  {
   "cell_type": "markdown",
   "metadata": {},
   "source": [
    "如果你想要的不是化简而是展开，应该使用expand_trig，因为默认的expand不会处理三角函数："
   ]
  },
  {
   "cell_type": "code",
   "execution_count": 74,
   "metadata": {},
   "outputs": [
    {
     "data": {
      "image/png": "[encoded data removed]",
      "text/latex": [
       "$\\displaystyle \\sin{\\left(2 x \\right)}$"
      ],
      "text/plain": [
       "sin(2⋅x)"
      ]
     },
     "execution_count": 74,
     "metadata": {},
     "output_type": "execute_result"
    }
   ],
   "source": [
    "sp.expand(sin(2*x))    # = (sin(2*x)).expand()"
   ]
  },
  {
   "cell_type": "code",
   "execution_count": 75,
   "metadata": {},
   "outputs": [
    {
     "data": {
      "image/png": "[encoded data removed]",
      "text/latex": [
       "$\\displaystyle 2 \\sin{\\left(x \\right)} \\cos{\\left(x \\right)}$"
      ],
      "text/plain": [
       "2⋅sin(x)⋅cos(x)"
      ]
     },
     "execution_count": 75,
     "metadata": {},
     "output_type": "execute_result"
    }
   ],
   "source": [
    "expand_trig(sin(2*x)) # = (sin(2*x)).expand(trig=True)"
   ]
  },
  {
   "cell_type": "markdown",
   "metadata": {},
   "source": [
    "### 1.10 双曲三角"
   ]
  },
  {
   "cell_type": "markdown",
   "metadata": {},
   "source": [
    "SymPy中的双曲正弦和双曲余弦分别记为sinh和cosh，在化简表达式时，SymPy能识别出来这些函数："
   ]
  },
  {
   "cell_type": "code",
   "execution_count": 76,
   "metadata": {},
   "outputs": [
    {
     "data": {
      "image/png": "[encoded data removed]",
      "text/latex": [
       "$\\displaystyle \\cosh{\\left(x \\right)}$"
      ],
      "text/plain": [
       "cosh(x)"
      ]
     },
     "execution_count": 76,
     "metadata": {},
     "output_type": "execute_result"
    }
   ],
   "source": [
    "sp.simplify((sp.exp(x) + sp.exp(-x))/2 )"
   ]
  },
  {
   "cell_type": "code",
   "execution_count": 77,
   "metadata": {},
   "outputs": [
    {
     "data": {
      "image/png": "[encoded data removed]",
      "text/latex": [
       "$\\displaystyle \\sinh{\\left(x \\right)}$"
      ],
      "text/plain": [
       "sinh(x)"
      ]
     },
     "execution_count": 77,
     "metadata": {},
     "output_type": "execute_result"
    }
   ],
   "source": [
    "sp.simplify((sp.exp(x) - sp.exp(-x))/2)"
   ]
  },
  {
   "cell_type": "markdown",
   "metadata": {},
   "source": [
    "$x = \\cosh(μ)$和$y = \\sinh(μ)$定义为双曲线$x^2 − y^2 = 1$上点的坐标$x$和$y$，因此\n",
    "满足恒等式$\\cosh^{2}(x) − \\sinh^{2}(x) = 1$:"
   ]
  },
  {
   "cell_type": "code",
   "execution_count": 78,
   "metadata": {},
   "outputs": [
    {
     "data": {
      "image/png": "[encoded data removed]",
      "text/latex": [
       "$\\displaystyle 1$"
      ],
      "text/plain": [
       "1"
      ]
     },
     "execution_count": 78,
     "metadata": {},
     "output_type": "execute_result"
    }
   ],
   "source": [
    "sp.simplify(sp.cosh(x)**2 - sp.sinh(x)**2)"
   ]
  },
  {
   "cell_type": "markdown",
   "metadata": {},
   "source": [
    "## 2. 复数"
   ]
  },
  {
   "cell_type": "code",
   "execution_count": 79,
   "metadata": {},
   "outputs": [],
   "source": [
    "from sympy import I, re, im, Abs, arg, conjugate"
   ]
  },
  {
   "cell_type": "markdown",
   "metadata": {},
   "source": [
    "### 2.1 基本运算"
   ]
  },
  {
   "cell_type": "markdown",
   "metadata": {},
   "source": [
    "虚数单位$i = \\sqrt{−1}$ (在SymPy中记为I) 满足方程："
   ]
  },
  {
   "cell_type": "code",
   "execution_count": 80,
   "metadata": {},
   "outputs": [
    {
     "data": {
      "image/png": "[encoded data removed]",
      "text/latex": [
       "$\\displaystyle -1$"
      ],
      "text/plain": [
       "-1"
      ]
     },
     "execution_count": 80,
     "metadata": {},
     "output_type": "execute_result"
    }
   ],
   "source": [
    "I*I"
   ]
  },
  {
   "cell_type": "code",
   "execution_count": 81,
   "metadata": {},
   "outputs": [
    {
     "data": {
      "image/png": "[encoded data removed]",
      "text/latex": [
       "$\\displaystyle \\left[ - i, \\  i\\right]$"
      ],
      "text/plain": [
       "[-ⅈ, ⅈ]"
      ]
     },
     "execution_count": 81,
     "metadata": {},
     "output_type": "execute_result"
    }
   ],
   "source": [
    "sp.solve(x**2 + 1, x)"
   ]
  },
  {
   "cell_type": "markdown",
   "metadata": {},
   "source": [
    "复数有实部和虚部："
   ]
  },
  {
   "cell_type": "code",
   "execution_count": 82,
   "metadata": {},
   "outputs": [
    {
     "data": {
      "image/png": "[encoded data removed]",
      "text/latex": [
       "$\\displaystyle 4 + 3 i$"
      ],
      "text/plain": [
       "4 + 3⋅ⅈ"
      ]
     },
     "execution_count": 82,
     "metadata": {},
     "output_type": "execute_result"
    }
   ],
   "source": [
    "z = 4 + 3*I\n",
    "z"
   ]
  },
  {
   "cell_type": "code",
   "execution_count": 83,
   "metadata": {},
   "outputs": [
    {
     "data": {
      "image/png": "[encoded data removed]",
      "text/latex": [
       "$\\displaystyle 4$"
      ],
      "text/plain": [
       "4"
      ]
     },
     "execution_count": 83,
     "metadata": {},
     "output_type": "execute_result"
    }
   ],
   "source": [
    "re(z)"
   ]
  },
  {
   "cell_type": "code",
   "execution_count": 84,
   "metadata": {},
   "outputs": [
    {
     "data": {
      "image/png": "[encoded data removed]",
      "text/latex": [
       "$\\displaystyle 3$"
      ],
      "text/plain": [
       "3"
      ]
     },
     "execution_count": 84,
     "metadata": {},
     "output_type": "execute_result"
    }
   ],
   "source": [
    "im(z)"
   ]
  },
  {
   "cell_type": "markdown",
   "metadata": {},
   "source": [
    "对于复数$z = a + bi$，$z$的共轭为：\n",
    "$$\\overline{z} = a − bi.$$\n",
    "$z$的模（或绝对值）为：\n",
    "$$|z| = \\sqrt{a^2 + b^2}.$$\n",
    "\n",
    "$z$的极坐标表示为：\n",
    "$$z = |z|e^{i\\theta},$$\n",
    "$\\theta$称为$z$的幅角。"
   ]
  },
  {
   "cell_type": "code",
   "execution_count": 85,
   "metadata": {},
   "outputs": [
    {
     "data": {
      "image/png": "[encoded data removed]",
      "text/latex": [
       "$\\displaystyle 4 - 3 i$"
      ],
      "text/plain": [
       "4 - 3⋅ⅈ"
      ]
     },
     "execution_count": 85,
     "metadata": {},
     "output_type": "execute_result"
    }
   ],
   "source": [
    "conjugate(z)  # 共轭复数"
   ]
  },
  {
   "cell_type": "code",
   "execution_count": 86,
   "metadata": {},
   "outputs": [
    {
     "data": {
      "image/png": "[encoded data removed]",
      "text/latex": [
       "$\\displaystyle 5$"
      ],
      "text/plain": [
       "5"
      ]
     },
     "execution_count": 86,
     "metadata": {},
     "output_type": "execute_result"
    }
   ],
   "source": [
    "Abs(z)"
   ]
  },
  {
   "cell_type": "code",
   "execution_count": 87,
   "metadata": {},
   "outputs": [
    {
     "data": {
      "image/png": "[encoded data removed]",
      "text/latex": [
       "$\\displaystyle \\operatorname{atan}{\\left(\\frac{3}{4} \\right)}$"
      ],
      "text/plain": [
       "atan(3/4)"
      ]
     },
     "execution_count": 87,
     "metadata": {},
     "output_type": "execute_result"
    }
   ],
   "source": [
    "arg(z)"
   ]
  },
  {
   "cell_type": "markdown",
   "metadata": {},
   "source": [
    "### 2.2 欧拉公式"
   ]
  },
  {
   "cell_type": "markdown",
   "metadata": {},
   "source": [
    "欧拉公式展示了指数函数$e^x$和三角函数$\\sin(x),\\cos(x)$之间的一个重要关系：\n",
    "$$e^{ix} = \\cos x + i \\sin x.$$\n",
    "在SymPy中要得到这个结果，你必须指定x是实数，并告诉expand你要的是复表达式："
   ]
  },
  {
   "cell_type": "code",
   "execution_count": 88,
   "metadata": {},
   "outputs": [
    {
     "data": {
      "image/png": "[encoded data removed]",
      "text/latex": [
       "$\\displaystyle i \\sin{\\left(x \\right)} + \\cos{\\left(x \\right)}$"
      ],
      "text/plain": [
       "ⅈ⋅sin(x) + cos(x)"
      ]
     },
     "execution_count": 88,
     "metadata": {},
     "output_type": "execute_result"
    }
   ],
   "source": [
    "x = sp.symbols('x', real=True)\n",
    "sp.exp(I*x).expand(complex=True)"
   ]
  },
  {
   "cell_type": "code",
   "execution_count": 89,
   "metadata": {},
   "outputs": [
    {
     "data": {
      "image/png": "[encoded data removed]",
      "text/latex": [
       "$\\displaystyle \\cos{\\left(x \\right)}$"
      ],
      "text/plain": [
       "cos(x)"
      ]
     },
     "execution_count": 89,
     "metadata": {},
     "output_type": "execute_result"
    }
   ],
   "source": [
    "re(sp.exp(I*x))"
   ]
  },
  {
   "cell_type": "code",
   "execution_count": 90,
   "metadata": {},
   "outputs": [
    {
     "data": {
      "image/png": "[encoded data removed]",
      "text/latex": [
       "$\\displaystyle \\sin{\\left(x \\right)}$"
      ],
      "text/plain": [
       "sin(x)"
      ]
     },
     "execution_count": 90,
     "metadata": {},
     "output_type": "execute_result"
    }
   ],
   "source": [
    "im(sp.exp(I*x))"
   ]
  },
  {
   "cell_type": "markdown",
   "metadata": {},
   "source": [
    "欧拉公式经常用来将关于sin和cos的函数重写为复指数的形式。\n",
    "\n",
    "例如："
   ]
  },
  {
   "cell_type": "code",
   "execution_count": 91,
   "metadata": {},
   "outputs": [
    {
     "data": {
      "image/png": "[encoded data removed]",
      "text/latex": [
       "$\\displaystyle \\frac{e^{i x}}{2} + \\frac{e^{- i x}}{2}$"
      ],
      "text/plain": [
       " ⅈ⋅x    -ⅈ⋅x\n",
       "ℯ      ℯ    \n",
       "──── + ─────\n",
       " 2       2  "
      ]
     },
     "execution_count": 91,
     "metadata": {},
     "output_type": "execute_result"
    }
   ],
   "source": [
    "(sp.cos(x)).rewrite(sp.exp)      # 与双曲三角函数的情况对比一下。"
   ]
  },
  {
   "cell_type": "markdown",
   "metadata": {},
   "source": [
    "## 3. 微积分"
   ]
  },
  {
   "cell_type": "markdown",
   "metadata": {},
   "source": [
    "本节中，我们学习使用SymPy函数计算极限、导数、积分及级数求和。"
   ]
  },
  {
   "cell_type": "markdown",
   "metadata": {},
   "source": [
    "### 3.1 无穷"
   ]
  },
  {
   "cell_type": "code",
   "execution_count": 92,
   "metadata": {},
   "outputs": [],
   "source": [
    "from sympy import oo"
   ]
  },
  {
   "cell_type": "markdown",
   "metadata": {},
   "source": [
    "在SymPy中，无穷大记号是oo。\n",
    "\n",
    "无穷大不是一个数，而是一个无休止的计数过程。于是$\\infty + 1 = \\infty.$\n",
    "\n",
    "$\\infty$比任何有限数都大，而且$\\frac 1 \\infty$是一个无穷小。\n",
    "\n",
    "Sympy知道如何正确处理表达式中的无穷大："
   ]
  },
  {
   "cell_type": "code",
   "execution_count": 93,
   "metadata": {},
   "outputs": [
    {
     "data": {
      "image/png": "[encoded data removed]",
      "text/latex": [
       "$\\displaystyle \\infty$"
      ],
      "text/plain": [
       "∞"
      ]
     },
     "execution_count": 93,
     "metadata": {},
     "output_type": "execute_result"
    }
   ],
   "source": [
    "sp.oo + 1"
   ]
  },
  {
   "cell_type": "code",
   "execution_count": 94,
   "metadata": {},
   "outputs": [
    {
     "data": {
      "text/latex": [
       "$\\displaystyle \\text{True}$"
      ],
      "text/plain": [
       "True"
      ]
     },
     "execution_count": 94,
     "metadata": {},
     "output_type": "execute_result"
    }
   ],
   "source": [
    "500000000000000000000 < oo"
   ]
  },
  {
   "cell_type": "code",
   "execution_count": 95,
   "metadata": {},
   "outputs": [
    {
     "data": {
      "image/png": "[encoded data removed]",
      "text/latex": [
       "$\\displaystyle 0$"
      ],
      "text/plain": [
       "0"
      ]
     },
     "execution_count": 95,
     "metadata": {},
     "output_type": "execute_result"
    }
   ],
   "source": [
    "1/oo"
   ]
  },
  {
   "cell_type": "markdown",
   "metadata": {},
   "source": [
    "### 3.2 极限"
   ]
  },
  {
   "cell_type": "code",
   "execution_count": 96,
   "metadata": {},
   "outputs": [],
   "source": [
    "from sympy import limit"
   ]
  },
  {
   "cell_type": "markdown",
   "metadata": {},
   "source": [
    "极限可以精确描述无穷大量、无穷小量，以及具有无限多个步骤的过程。\n",
    "\n",
    "例如，欧拉常数$e$定义为极限:\n",
    "$$e = \\lim_{n \\to \\infty}(1 + {\\frac 1 n})^n.$$"
   ]
  },
  {
   "cell_type": "code",
   "execution_count": 97,
   "metadata": {},
   "outputs": [
    {
     "data": {
      "image/png": "[encoded data removed]",
      "text/latex": [
       "$\\displaystyle e$"
      ],
      "text/plain": [
       "ℯ"
      ]
     },
     "execution_count": 97,
     "metadata": {},
     "output_type": "execute_result"
    }
   ],
   "source": [
    "n = sp.symbols('n', integer=True)\n",
    "limit((1+1/n)**n, n, oo)"
   ]
  },
  {
   "cell_type": "markdown",
   "metadata": {},
   "source": [
    "极限也可以用于描述函数的行为。\n",
    "\n",
    "考虑函数$f(x) = \\frac 1 x.$ "
   ]
  },
  {
   "cell_type": "code",
   "execution_count": 98,
   "metadata": {},
   "outputs": [
    {
     "data": {
      "image/png": "[encoded data removed]",
      "text/latex": [
       "$\\displaystyle \\infty$"
      ],
      "text/plain": [
       "∞"
      ]
     },
     "execution_count": 98,
     "metadata": {},
     "output_type": "execute_result"
    }
   ],
   "source": [
    "x = sp.Symbol('x')\n",
    "limit(1/x, x, 0, dir=\"+\")  # 0+"
   ]
  },
  {
   "cell_type": "code",
   "execution_count": 99,
   "metadata": {},
   "outputs": [
    {
     "data": {
      "image/png": "[encoded data removed]",
      "text/latex": [
       "$\\displaystyle -\\infty$"
      ],
      "text/plain": [
       "-∞"
      ]
     },
     "execution_count": 99,
     "metadata": {},
     "output_type": "execute_result"
    }
   ],
   "source": [
    "limit(1/x, x, 0, dir=\"-\")  # 0-"
   ]
  },
  {
   "cell_type": "code",
   "execution_count": 100,
   "metadata": {},
   "outputs": [
    {
     "data": {
      "image/png": "[encoded data removed]",
      "text/latex": [
       "$\\displaystyle 0$"
      ],
      "text/plain": [
       "0"
      ]
     },
     "execution_count": 100,
     "metadata": {},
     "output_type": "execute_result"
    }
   ],
   "source": [
    "limit(1/x, x, oo)"
   ]
  },
  {
   "cell_type": "markdown",
   "metadata": {},
   "source": [
    "以下是另外一些函数极限的例子。"
   ]
  },
  {
   "cell_type": "code",
   "execution_count": 101,
   "metadata": {},
   "outputs": [
    {
     "data": {
      "image/png": "[encoded data removed]",
      "text/latex": [
       "$\\displaystyle 1$"
      ],
      "text/plain": [
       "1"
      ]
     },
     "execution_count": 101,
     "metadata": {},
     "output_type": "execute_result"
    }
   ],
   "source": [
    "limit(sp.sin(x)/x, x, 0)"
   ]
  },
  {
   "cell_type": "code",
   "execution_count": 102,
   "metadata": {},
   "outputs": [
    {
     "data": {
      "image/png": "[encoded data removed]",
      "text/latex": [
       "$\\displaystyle 0$"
      ],
      "text/plain": [
       "0"
      ]
     },
     "execution_count": 102,
     "metadata": {},
     "output_type": "execute_result"
    }
   ],
   "source": [
    "limit(sp.sin(x)**2/x, x, 0)"
   ]
  },
  {
   "cell_type": "code",
   "execution_count": 103,
   "metadata": {},
   "outputs": [
    {
     "data": {
      "image/png": "[encoded data removed]",
      "text/latex": [
       "$\\displaystyle \\infty$"
      ],
      "text/plain": [
       "∞"
      ]
     },
     "execution_count": 103,
     "metadata": {},
     "output_type": "execute_result"
    }
   ],
   "source": [
    "limit(sp.exp(x)/x**100, x, oo) # e^x和x^100哪个更大？  同阶无穷大？"
   ]
  },
  {
   "cell_type": "markdown",
   "metadata": {},
   "source": [
    "### 3.3 导数"
   ]
  },
  {
   "cell_type": "code",
   "execution_count": 104,
   "metadata": {},
   "outputs": [],
   "source": [
    "from sympy import diff  # 如果写import sympy as sp 则写语句时较麻烦，sp.diff()，而这么写只用diff即可"
   ]
  },
  {
   "cell_type": "markdown",
   "metadata": {},
   "source": [
    "SymPy函数diff用于计算任何表达式的导数："
   ]
  },
  {
   "cell_type": "code",
   "execution_count": 105,
   "metadata": {},
   "outputs": [
    {
     "data": {
      "image/png": "[encoded data removed]",
      "text/latex": [
       "$\\displaystyle 3 x^{2}$"
      ],
      "text/plain": [
       "   2\n",
       "3⋅x "
      ]
     },
     "execution_count": 105,
     "metadata": {},
     "output_type": "execute_result"
    }
   ],
   "source": [
    "diff(x**3, x)"
   ]
  },
  {
   "cell_type": "markdown",
   "metadata": {},
   "source": [
    "diff运算知道求导的乘积法则、商法则和链式法则：\n",
    "$$[f(x)g(x)]' = f'(x)g(x) + f(x)g'(x),$$\n",
    "\n",
    "$$[\\frac {f(x)} {g(x)}]' = \\frac {f'(x)g(x) - f(x)g'(x)} {g(x)^2},$$\n",
    "\n",
    "$$f(g(x))' = f'(g(x))g'(x).$$ "
   ]
  },
  {
   "cell_type": "code",
   "execution_count": 106,
   "metadata": {},
   "outputs": [
    {
     "data": {
      "image/png": "[encoded data removed]",
      "text/latex": [
       "$\\displaystyle x^{2} \\cos{\\left(x \\right)} + 2 x \\sin{\\left(x \\right)}$"
      ],
      "text/plain": [
       " 2                    \n",
       "x ⋅cos(x) + 2⋅x⋅sin(x)"
      ]
     },
     "execution_count": 106,
     "metadata": {},
     "output_type": "execute_result"
    }
   ],
   "source": [
    "diff(x**2*sp.sin(x), x)"
   ]
  },
  {
   "cell_type": "code",
   "execution_count": 107,
   "metadata": {},
   "outputs": [
    {
     "data": {
      "image/png": "[encoded data removed]",
      "text/latex": [
       "$\\displaystyle 2 x \\cos{\\left(x^{2} \\right)}$"
      ],
      "text/plain": [
       "       ⎛ 2⎞\n",
       "2⋅x⋅cos⎝x ⎠"
      ]
     },
     "execution_count": 107,
     "metadata": {},
     "output_type": "execute_result"
    }
   ],
   "source": [
    "diff(sp.sin(x**2), x)"
   ]
  },
  {
   "cell_type": "code",
   "execution_count": 108,
   "metadata": {},
   "outputs": [
    {
     "data": {
      "image/png": "[encoded data removed]",
      "text/latex": [
       "$\\displaystyle - \\frac{x^{2} \\cos{\\left(x \\right)}}{\\sin^{2}{\\left(x \\right)}} + \\frac{2 x}{\\sin{\\left(x \\right)}}$"
      ],
      "text/plain": [
       "   2                \n",
       "  x ⋅cos(x)    2⋅x  \n",
       "- ───────── + ──────\n",
       "      2       sin(x)\n",
       "   sin (x)          "
      ]
     },
     "execution_count": 108,
     "metadata": {},
     "output_type": "execute_result"
    }
   ],
   "source": [
    "diff(x**2/sp.sin(x), x)"
   ]
  },
  {
   "cell_type": "markdown",
   "metadata": {},
   "source": [
    "函数$f$的二阶导数是diff(f, x, 2)："
   ]
  },
  {
   "cell_type": "code",
   "execution_count": 109,
   "metadata": {},
   "outputs": [
    {
     "data": {
      "image/png": "[encoded data removed]",
      "text/latex": [
       "$\\displaystyle 6 x$"
      ],
      "text/plain": [
       "6⋅x"
      ]
     },
     "execution_count": 109,
     "metadata": {},
     "output_type": "execute_result"
    }
   ],
   "source": [
    "diff(x**3, x, 2)  # 与diff(diff(x**3, x), x)相同"
   ]
  },
  {
   "cell_type": "markdown",
   "metadata": {},
   "source": [
    "指数函数$f(x) = e^x$非常特殊，因为它等于自己的导数："
   ]
  },
  {
   "cell_type": "code",
   "execution_count": 110,
   "metadata": {},
   "outputs": [
    {
     "data": {
      "image/png": "[encoded data removed]",
      "text/latex": [
       "$\\displaystyle e^{x}$"
      ],
      "text/plain": [
       " x\n",
       "ℯ "
      ]
     },
     "execution_count": 110,
     "metadata": {},
     "output_type": "execute_result"
    }
   ],
   "source": [
    "diff(sp.exp(x), x)     #与diff(E**x, x)相同"
   ]
  },
  {
   "cell_type": "markdown",
   "metadata": {},
   "source": [
    "那么，什么样的函数$f(x)$等于其导数呢？使用解微分方程的函数dsolve可以找到答案："
   ]
  },
  {
   "cell_type": "code",
   "execution_count": 111,
   "metadata": {},
   "outputs": [
    {
     "ename": "TypeError",
     "evalue": "'Symbol' object is not callable",
     "output_type": "error",
     "traceback": [
      "\u001b[0;31m---------------------------------------------------------------------------\u001b[0m",
      "\u001b[0;31mTypeError\u001b[0m                                 Traceback (most recent call last)",
      "\u001b[0;32m<ipython-input-111-279a244fca8d>\u001b[0m in \u001b[0;36m<module>\u001b[0;34m\u001b[0m\n\u001b[1;32m      1\u001b[0m \u001b[0mx\u001b[0m \u001b[0;34m=\u001b[0m \u001b[0msp\u001b[0m\u001b[0;34m.\u001b[0m\u001b[0msymbols\u001b[0m\u001b[0;34m(\u001b[0m\u001b[0;34m'x'\u001b[0m\u001b[0;34m)\u001b[0m\u001b[0;34m\u001b[0m\u001b[0;34m\u001b[0m\u001b[0m\n\u001b[1;32m      2\u001b[0m \u001b[0mf\u001b[0m \u001b[0;34m=\u001b[0m \u001b[0msp\u001b[0m\u001b[0;34m.\u001b[0m\u001b[0msymbols\u001b[0m\u001b[0;34m(\u001b[0m\u001b[0;34m'f'\u001b[0m\u001b[0;34m,\u001b[0m \u001b[0mfunction\u001b[0m\u001b[0;34m=\u001b[0m\u001b[0;32mTrue\u001b[0m\u001b[0;34m)\u001b[0m  \u001b[0;31m# 现在可以使用f(x)\u001b[0m\u001b[0;34m\u001b[0m\u001b[0;34m\u001b[0m\u001b[0m\n\u001b[0;32m----> 3\u001b[0;31m \u001b[0msp\u001b[0m\u001b[0;34m.\u001b[0m\u001b[0mdsolve\u001b[0m\u001b[0;34m(\u001b[0m\u001b[0mf\u001b[0m\u001b[0;34m(\u001b[0m\u001b[0mx\u001b[0m\u001b[0;34m)\u001b[0m \u001b[0;34m-\u001b[0m \u001b[0msp\u001b[0m\u001b[0;34m.\u001b[0m\u001b[0mdiff\u001b[0m\u001b[0;34m(\u001b[0m\u001b[0mf\u001b[0m\u001b[0;34m(\u001b[0m\u001b[0mx\u001b[0m\u001b[0;34m)\u001b[0m\u001b[0;34m,\u001b[0m\u001b[0mx\u001b[0m\u001b[0;34m)\u001b[0m\u001b[0;34m,\u001b[0m \u001b[0mf\u001b[0m\u001b[0;34m(\u001b[0m\u001b[0mx\u001b[0m\u001b[0;34m)\u001b[0m\u001b[0;34m)\u001b[0m\u001b[0;34m\u001b[0m\u001b[0;34m\u001b[0m\u001b[0m\n\u001b[0m",
      "\u001b[0;31mTypeError\u001b[0m: 'Symbol' object is not callable"
     ]
    }
   ],
   "source": [
    "x = sp.symbols('x')\n",
    "f = sp.symbols('f', function=True)  # 现在可以使用f(x)\n",
    "sp.dsolve(f(x) - sp.diff(f(x),x), f(x))"
   ]
  },
  {
   "cell_type": "markdown",
   "metadata": {},
   "source": [
    "### 3.4 切线"
   ]
  },
  {
   "cell_type": "markdown",
   "metadata": {
    "collapsed": true
   },
   "source": [
    "函数$f(x)$在点$x = x_0$处的切线可由下列方程给出：\n",
    "$$T_1(x)=f(x_0)+f'(x_0)(x−x_0).$$\n",
    "\n",
    "例如，求函数$f(x)= {\\frac 1 2}x^2$在$x_0 = 1$处的切线。"
   ]
  },
  {
   "cell_type": "code",
   "execution_count": 112,
   "metadata": {},
   "outputs": [
    {
     "data": {
      "image/png": "[encoded data removed]",
      "text/latex": [
       "$\\displaystyle \\frac{x^{2}}{2}$"
      ],
      "text/plain": [
       " 2\n",
       "x \n",
       "──\n",
       "2 "
      ]
     },
     "execution_count": 112,
     "metadata": {},
     "output_type": "execute_result"
    }
   ],
   "source": [
    "f = sp.S('1/2')*x**2\n",
    "f"
   ]
  },
  {
   "cell_type": "code",
   "execution_count": 113,
   "metadata": {},
   "outputs": [
    {
     "data": {
      "image/png": "[encoded data removed]",
      "text/latex": [
       "$\\displaystyle x$"
      ],
      "text/plain": [
       "x"
      ]
     },
     "execution_count": 113,
     "metadata": {},
     "output_type": "execute_result"
    }
   ],
   "source": [
    "df = sp.diff(f, x)\n",
    "df"
   ]
  },
  {
   "cell_type": "code",
   "execution_count": 114,
   "metadata": {},
   "outputs": [
    {
     "data": {
      "image/png": "[encoded data removed]",
      "text/latex": [
       "$\\displaystyle x - \\frac{1}{2}$"
      ],
      "text/plain": [
       "x - 1/2"
      ]
     },
     "execution_count": 114,
     "metadata": {},
     "output_type": "execute_result"
    }
   ],
   "source": [
    "T_1 = f.subs({x:1}) + df.subs({x:1})*(x - 1)\n",
    "T_1"
   ]
  },
  {
   "cell_type": "markdown",
   "metadata": {},
   "source": [
    "切线$T_1(x)$与函数$f(x)$在$x = 1$处有相同的值以及斜率。"
   ]
  },
  {
   "cell_type": "code",
   "execution_count": 115,
   "metadata": {},
   "outputs": [
    {
     "data": {
      "text/plain": [
       "True"
      ]
     },
     "execution_count": 115,
     "metadata": {},
     "output_type": "execute_result"
    }
   ],
   "source": [
    "T_1.subs({x:1}) == f.subs({x:1})"
   ]
  },
  {
   "cell_type": "code",
   "execution_count": 116,
   "metadata": {},
   "outputs": [
    {
     "data": {
      "text/plain": [
       "True"
      ]
     },
     "execution_count": 116,
     "metadata": {},
     "output_type": "execute_result"
    }
   ],
   "source": [
    "diff(T_1, x).subs({x:1}) == diff(f, x).subs({x:1})"
   ]
  },
  {
   "cell_type": "markdown",
   "metadata": {},
   "source": [
    "### 3.5 优化"
   ]
  },
  {
   "cell_type": "markdown",
   "metadata": {},
   "source": [
    "优化就是对一个函数$f(x)$选取一个输入值，使之产生$f(x)$的最佳结果。最佳值通常意味着最大值或最小值。\n",
    "\n",
    "导数$f'(x)$编码了关于$f(x)$的斜率的信息：正斜率$f'(x) > 0$意味着$f(x)$是递增的，负的斜率意味着$f(x)$是递减的。零斜率$f'(x) = 0$意味着函数图象是水平的。\n",
    "\n",
    "函数$f(x)$的临界点是方程$f'(x) = 0$的解。每个临界点都是该函数的最大值或者最小值的候选者。\n",
    "\n",
    "二阶导数$f''(x)$编码了关于$f(x)$的曲率的信息：正曲率意味着函数像$x^2$那样弯曲，负曲率意味着函数像$−x^2$那样弯曲。\n",
    "\n",
    "我们求函数$f(x) = x^3 − 2x^2 + x$的临界点，并使用二阶导数的信息求出函数在区间$[0,1]$中的极值。"
   ]
  },
  {
   "cell_type": "code",
   "execution_count": 117,
   "metadata": {},
   "outputs": [
    {
     "data": {
      "image/png": "[encoded data removed]",
      "text/latex": [
       "$\\displaystyle 3 x^{2} - 4 x + 1$"
      ],
      "text/plain": [
       "   2          \n",
       "3⋅x  - 4⋅x + 1"
      ]
     },
     "execution_count": 117,
     "metadata": {},
     "output_type": "execute_result"
    }
   ],
   "source": [
    "x = sp.Symbol('x')\n",
    "f = x**3 - 2*x**2 + x\n",
    "sp.diff(f, x)"
   ]
  },
  {
   "cell_type": "code",
   "execution_count": 118,
   "metadata": {},
   "outputs": [
    {
     "data": {
      "image/png": "[encoded data removed]",
      "text/latex": [
       "$\\displaystyle \\left[ \\frac{1}{3}, \\  1\\right]$"
      ],
      "text/plain": [
       "[1/3, 1]"
      ]
     },
     "execution_count": 118,
     "metadata": {},
     "output_type": "execute_result"
    }
   ],
   "source": [
    "sols = sp.solve(diff(f,x), x)  # 高等数学求拐点的方法\n",
    "sols"
   ]
  },
  {
   "cell_type": "code",
   "execution_count": 119,
   "metadata": {},
   "outputs": [
    {
     "data": {
      "image/png": "[encoded data removed]",
      "text/latex": [
       "$\\displaystyle -2$"
      ],
      "text/plain": [
       "-2"
      ]
     },
     "execution_count": 119,
     "metadata": {},
     "output_type": "execute_result"
    }
   ],
   "source": [
    "diff(diff(f,x), x).subs({x:sols[0]})"
   ]
  },
  {
   "cell_type": "code",
   "execution_count": 120,
   "metadata": {},
   "outputs": [
    {
     "data": {
      "image/png": "[encoded data removed]",
      "text/latex": [
       "$\\displaystyle 2$"
      ],
      "text/plain": [
       "2"
      ]
     },
     "execution_count": 120,
     "metadata": {},
     "output_type": "execute_result"
    }
   ],
   "source": [
    "diff(diff(f,x), x).subs({x:sols[1]})"
   ]
  },
  {
   "cell_type": "markdown",
   "metadata": {},
   "source": [
    "通过考察函数的图象可以看出，函数$f(x)$在区间$[0,1]$中的点$x = \\frac 1 3$处取到\n",
    "最大值$f(\\frac 1 3) = \\frac 4 {27}$，$x = 1$是$f(x)$的一个局部极小值。"
   ]
  },
  {
   "cell_type": "markdown",
   "metadata": {},
   "source": [
    "### 3.6 积分"
   ]
  },
  {
   "cell_type": "markdown",
   "metadata": {},
   "source": [
    "$f(x)$的**积分**对应于函数$f(x)$在$x = a$和$x = b$之间所包围的面积:\n",
    "$$A(a,b)= \\int_{a}^{b}f(x)dx.$$\n",
    "\n",
    "在SymPy中，使用integrate(f,x)来得到任意函数$f(x)$的积分函数$F(x)$:\n",
    "$$F(x) = \\int_{0}^{x}f(u)du.$$"
   ]
  },
  {
   "cell_type": "code",
   "execution_count": 121,
   "metadata": {},
   "outputs": [
    {
     "data": {
      "image/png": "[encoded data removed]",
      "text/latex": [
       "$\\displaystyle \\frac{x^{4}}{4}$"
      ],
      "text/plain": [
       " 4\n",
       "x \n",
       "──\n",
       "4 "
      ]
     },
     "execution_count": 121,
     "metadata": {},
     "output_type": "execute_result"
    }
   ],
   "source": [
    "sp.integrate(x**3, x)"
   ]
  },
  {
   "cell_type": "code",
   "execution_count": 122,
   "metadata": {},
   "outputs": [
    {
     "data": {
      "image/png": "[encoded data removed]",
      "text/latex": [
       "$\\displaystyle - \\cos{\\left(x \\right)}$"
      ],
      "text/plain": [
       "-cos(x)"
      ]
     },
     "execution_count": 122,
     "metadata": {},
     "output_type": "execute_result"
    }
   ],
   "source": [
    "sp.integrate(sp.sin(x), x)"
   ]
  },
  {
   "cell_type": "code",
   "execution_count": 123,
   "metadata": {},
   "outputs": [
    {
     "data": {
      "image/png": "[encoded data removed]",
      "text/latex": [
       "$\\displaystyle x \\log{\\left(x \\right)} - x$"
      ],
      "text/plain": [
       "x⋅log(x) - x"
      ]
     },
     "execution_count": 123,
     "metadata": {},
     "output_type": "execute_result"
    }
   ],
   "source": [
    "sp.integrate(sp.ln(x), x)"
   ]
  },
  {
   "cell_type": "markdown",
   "metadata": {},
   "source": [
    "上面这样的形式称为不定积分，因为没有指定积分的限。\n",
    "\n",
    "使用integrate(f, (x,a,b))来计算如下形式的定积分（面积）：\n",
    "$$A(a,b)= \\int_{a}^{b}f(x)dx.$$"
   ]
  },
  {
   "cell_type": "code",
   "execution_count": 124,
   "metadata": {},
   "outputs": [
    {
     "data": {
      "image/png": "[encoded data removed]",
      "text/latex": [
       "$\\displaystyle \\frac{1}{4}$"
      ],
      "text/plain": [
       "1/4"
      ]
     },
     "execution_count": 124,
     "metadata": {},
     "output_type": "execute_result"
    }
   ],
   "source": [
    "sp.integrate(x**3, (x,0,1))"
   ]
  },
  {
   "cell_type": "markdown",
   "metadata": {},
   "source": [
    "我们也可以使用牛顿-莱布尼兹公式（Newton-Leibniz formula）\n",
    "$$A(a,b)= \\int_{a}^{b}f(x)dx = F(b) - F(a)$$\n",
    "来计算定积分的值。"
   ]
  },
  {
   "cell_type": "code",
   "execution_count": 125,
   "metadata": {},
   "outputs": [
    {
     "data": {
      "image/png": "[encoded data removed]",
      "text/latex": [
       "$\\displaystyle \\frac{1}{4}$"
      ],
      "text/plain": [
       "1/4"
      ]
     },
     "execution_count": 125,
     "metadata": {},
     "output_type": "execute_result"
    }
   ],
   "source": [
    "F = sp.integrate(x**3, x)\n",
    "F.subs({x:1}) - F.subs({x:0})"
   ]
  },
  {
   "cell_type": "markdown",
   "metadata": {},
   "source": [
    "积分对于着有符号的面积："
   ]
  },
  {
   "cell_type": "code",
   "execution_count": 126,
   "metadata": {},
   "outputs": [
    {
     "data": {
      "image/png": "[encoded data removed]",
      "text/latex": [
       "$\\displaystyle 2$"
      ],
      "text/plain": [
       "2"
      ]
     },
     "execution_count": 126,
     "metadata": {},
     "output_type": "execute_result"
    }
   ],
   "source": [
    "sp.integrate(sp.sin(x), (x,0,sp.pi))"
   ]
  },
  {
   "cell_type": "code",
   "execution_count": 127,
   "metadata": {},
   "outputs": [
    {
     "data": {
      "image/png": "[encoded data removed]",
      "text/latex": [
       "$\\displaystyle -2$"
      ],
      "text/plain": [
       "-2"
      ]
     },
     "execution_count": 127,
     "metadata": {},
     "output_type": "execute_result"
    }
   ],
   "source": [
    "sp.integrate(sp.sin(x), (x,sp.pi,2*sp.pi))"
   ]
  },
  {
   "cell_type": "code",
   "execution_count": 128,
   "metadata": {},
   "outputs": [
    {
     "data": {
      "image/png": "[encoded data removed]",
      "text/latex": [
       "$\\displaystyle 0$"
      ],
      "text/plain": [
       "0"
      ]
     },
     "execution_count": 128,
     "metadata": {},
     "output_type": "execute_result"
    }
   ],
   "source": [
    "sp.integrate(sp.sin(x), (x,0,2*sp.pi))"
   ]
  },
  {
   "cell_type": "markdown",
   "metadata": {},
   "source": [
    "### 3.7 微积分基本定理"
   ]
  },
  {
   "cell_type": "markdown",
   "metadata": {},
   "source": [
    "积分是导数的“逆运算”：如果你对某个函数先积分后求导，你将得到原来的函数：\n",
    "$$({\\frac d {dx} \\circ \\int dx})\\ f(x) = {\\frac d {dx}}\\int_{c}^{x}f(u)du = f(x).$$"
   ]
  },
  {
   "cell_type": "code",
   "execution_count": 129,
   "metadata": {},
   "outputs": [
    {
     "data": {
      "image/png": "[encoded data removed]",
      "text/latex": [
       "$\\displaystyle \\frac{x^{3}}{3}$"
      ],
      "text/plain": [
       " 3\n",
       "x \n",
       "──\n",
       "3 "
      ]
     },
     "execution_count": 129,
     "metadata": {},
     "output_type": "execute_result"
    }
   ],
   "source": [
    "f = x**2\n",
    "F = sp.integrate(f, x)\n",
    "F"
   ]
  },
  {
   "cell_type": "code",
   "execution_count": 130,
   "metadata": {},
   "outputs": [
    {
     "data": {
      "image/png": "[encoded data removed]",
      "text/latex": [
       "$\\displaystyle x^{2}$"
      ],
      "text/plain": [
       " 2\n",
       "x "
      ]
     },
     "execution_count": 130,
     "metadata": {},
     "output_type": "execute_result"
    }
   ],
   "source": [
    "sp.diff(F, x)"
   ]
  },
  {
   "cell_type": "markdown",
   "metadata": {},
   "source": [
    "反之，如果你对某个函数先求导再积分，你仍然得到原始的函数（加上一个任意常数）：\n",
    "$$(\\int dx \\circ {\\frac d {dx}})\\ f(x) = \\int_{c}^{x}f’(u)du = f(x) + C.$$"
   ]
  },
  {
   "cell_type": "code",
   "execution_count": 131,
   "metadata": {},
   "outputs": [
    {
     "data": {
      "image/png": "[encoded data removed]",
      "text/latex": [
       "$\\displaystyle 2 x$"
      ],
      "text/plain": [
       "2⋅x"
      ]
     },
     "execution_count": 131,
     "metadata": {},
     "output_type": "execute_result"
    }
   ],
   "source": [
    "f = x**2\n",
    "df = sp.diff(f, x)\n",
    "df"
   ]
  },
  {
   "cell_type": "code",
   "execution_count": 132,
   "metadata": {},
   "outputs": [
    {
     "data": {
      "image/png": "[encoded data removed]",
      "text/latex": [
       "$\\displaystyle x^{2}$"
      ],
      "text/plain": [
       " 2\n",
       "x "
      ]
     },
     "execution_count": 132,
     "metadata": {},
     "output_type": "execute_result"
    }
   ],
   "source": [
    "sp.integrate(df, x)"
   ]
  },
  {
   "cell_type": "markdown",
   "metadata": {},
   "source": [
    "### 3.8 序列"
   ]
  },
  {
   "cell_type": "markdown",
   "metadata": {
    "collapsed": true
   },
   "source": [
    "序列是以整数作为定义域（输入）的函数，我们将序列记为$a_n$，而不是通常的函数记号$a(n)$.\n",
    "\n",
    "我们通过指定序列的第$n$项（通项）来定义序列："
   ]
  },
  {
   "cell_type": "code",
   "execution_count": 133,
   "metadata": {},
   "outputs": [],
   "source": [
    "a_n = 1/n                  # 可递推\n",
    "b_n = 1/sp.factorial(n)"
   ]
  },
  {
   "cell_type": "code",
   "execution_count": 134,
   "metadata": {},
   "outputs": [
    {
     "data": {
      "image/png": "[encoded data removed]",
      "text/latex": [
       "$\\displaystyle \\frac{1}{n}$"
      ],
      "text/plain": [
       "1\n",
       "─\n",
       "n"
      ]
     },
     "execution_count": 134,
     "metadata": {},
     "output_type": "execute_result"
    }
   ],
   "source": [
    "a_n"
   ]
  },
  {
   "cell_type": "code",
   "execution_count": 135,
   "metadata": {},
   "outputs": [
    {
     "data": {
      "image/png": "[encoded data removed]",
      "text/latex": [
       "$\\displaystyle \\frac{1}{n!}$"
      ],
      "text/plain": [
       "1 \n",
       "──\n",
       "n!"
      ]
     },
     "execution_count": 135,
     "metadata": {},
     "output_type": "execute_result"
    }
   ],
   "source": [
    "b_n"
   ]
  },
  {
   "cell_type": "code",
   "execution_count": 136,
   "metadata": {},
   "outputs": [
    {
     "data": {
      "image/png": "[encoded data removed]",
      "text/latex": [
       "$\\displaystyle \\frac{1}{5}$"
      ],
      "text/plain": [
       "1/5"
      ]
     },
     "execution_count": 136,
     "metadata": {},
     "output_type": "execute_result"
    }
   ],
   "source": [
    "a_n.subs({n:5})"
   ]
  },
  {
   "cell_type": "markdown",
   "metadata": {},
   "source": [
    "Python的list理解语法[item for item in list]，\n",
    "可以用于打印一个范围内的序列值："
   ]
  },
  {
   "cell_type": "code",
   "execution_count": 137,
   "metadata": {},
   "outputs": [
    {
     "data": {
      "image/png": "[encoded data removed]",
      "text/latex": [
       "$\\displaystyle \\left[ \\tilde{\\infty}, \\  1, \\  \\frac{1}{2}, \\  \\frac{1}{3}, \\  \\frac{1}{4}, \\  \\frac{1}{5}, \\  \\frac{1}{6}, \\  \\frac{1}{7}\\right]$"
      ],
      "text/plain": [
       "[zoo, 1, 1/2, 1/3, 1/4, 1/5, 1/6, 1/7]"
      ]
     },
     "execution_count": 137,
     "metadata": {},
     "output_type": "execute_result"
    }
   ],
   "source": [
    "[a_n.subs({n:i}) for i in range(0,8)]"
   ]
  },
  {
   "cell_type": "code",
   "execution_count": 138,
   "metadata": {},
   "outputs": [
    {
     "data": {
      "image/png": "[encoded data removed]",
      "text/latex": [
       "$\\displaystyle \\left[ 1, \\  1, \\  \\frac{1}{2}, \\  \\frac{1}{6}, \\  \\frac{1}{24}, \\  \\frac{1}{120}, \\  \\frac{1}{720}, \\  \\frac{1}{5040}\\right]$"
      ],
      "text/plain": [
       "[1, 1, 1/2, 1/6, 1/24, 1/120, 1/720, 1/5040]"
      ]
     },
     "execution_count": 138,
     "metadata": {},
     "output_type": "execute_result"
    }
   ],
   "source": [
    "[b_n.subs({n:i}) for i in range(0,8)]"
   ]
  },
  {
   "cell_type": "markdown",
   "metadata": {},
   "source": [
    "注意$a_n$对于$n = 0$是没有确切的定义的，因此会返回被零除的错误。\n",
    "\n",
    "准确地讲，我们说该序列$a_n$的定义域是自然数：$a_n \\colon \\mathbb{N^+} \\to \\mathbb{R}.$ \n",
    "\n",
    "我们可以观察到阶乘函数$n! = 1·2·3···(n−1)·n$的增长有多么的快：\n",
    "$$7! = 5040,10! = 3628800,20! > 10^{18}.$$\n",
    "\n",
    "我们经常需要计算当$n \\to \\infty$时，序列$a_n$的极限。"
   ]
  },
  {
   "cell_type": "code",
   "execution_count": 139,
   "metadata": {},
   "outputs": [
    {
     "data": {
      "image/png": "[encoded data removed]",
      "text/latex": [
       "$\\displaystyle 0$"
      ],
      "text/plain": [
       "0"
      ]
     },
     "execution_count": 139,
     "metadata": {},
     "output_type": "execute_result"
    }
   ],
   "source": [
    "sp.limit(a_n, n,oo)"
   ]
  },
  {
   "cell_type": "code",
   "execution_count": 140,
   "metadata": {},
   "outputs": [
    {
     "data": {
      "image/png": "[encoded data removed]",
      "text/latex": [
       "$\\displaystyle 0$"
      ],
      "text/plain": [
       "0"
      ]
     },
     "execution_count": 140,
     "metadata": {},
     "output_type": "execute_result"
    }
   ],
   "source": [
    "sp.limit(b_n, n,oo)"
   ]
  },
  {
   "cell_type": "markdown",
   "metadata": {},
   "source": [
    "很多重要的数学量都是通过极限表达式来定义的。一个有意思的例子是考虑常数$\\pi,$\n",
    "它定义为单位半径的圆的面积。我们可以通过包围圆的正多边形的面积来逼近单位圆的面积。\n",
    "\n",
    "通过将正$n$边形分解成恒等的三角形切片，我们可以得到其面积$A_n,$然后令$n \\to \\infty,$给出单位圆的面积。"
   ]
  },
  {
   "cell_type": "code",
   "execution_count": 141,
   "metadata": {},
   "outputs": [
    {
     "data": {
      "image/png": "[encoded data removed]",
      "text/latex": [
       "$\\displaystyle \\pi$"
      ],
      "text/plain": [
       "π"
      ]
     },
     "execution_count": 141,
     "metadata": {},
     "output_type": "execute_result"
    }
   ],
   "source": [
    "A_n = n * sp.tan(2*sp.pi/(2*n))\n",
    "sp.limit(A_n, n,oo)"
   ]
  },
  {
   "cell_type": "markdown",
   "metadata": {},
   "source": [
    "### 3.9 级数\n",
    "\n",
    "给定一个序列$a_n,$我们希望计算序列中所有值的和$\\sum_{n}^{\\infty}a_n.$ \n",
    "\n",
    "对序列$a_n \\colon \\mathbb{N} \\to \\mathbb{R}$求和类似于对函数$f \\colon \\mathbb{R} \\to \\mathbb{R}$求积分。\n",
    "\n",
    "SymPy中用于求和的函数是summation，其语法类似于积分函数integrate。"
   ]
  },
  {
   "cell_type": "code",
   "execution_count": 142,
   "metadata": {},
   "outputs": [
    {
     "data": {
      "image/png": "[encoded data removed]",
      "text/latex": [
       "$\\displaystyle \\infty$"
      ],
      "text/plain": [
       "∞"
      ]
     },
     "execution_count": 142,
     "metadata": {},
     "output_type": "execute_result"
    }
   ],
   "source": [
    "a_n = 1/n\n",
    "b_n = 1/sp.factorial(n)\n",
    "sp.summation(a_n, [n, 1, oo])"
   ]
  },
  {
   "cell_type": "code",
   "execution_count": 143,
   "metadata": {},
   "outputs": [
    {
     "data": {
      "image/png": "[encoded data removed]",
      "text/latex": [
       "$\\displaystyle e$"
      ],
      "text/plain": [
       "ℯ"
      ]
     },
     "execution_count": 143,
     "metadata": {},
     "output_type": "execute_result"
    }
   ],
   "source": [
    "sp.summation(b_n, [n, 0, oo])  # 求和，顺便考虑求积符号？  # 可以算无穷和（sum不行）"
   ]
  },
  {
   "cell_type": "markdown",
   "metadata": {},
   "source": [
    "summation命令允许我们计算无穷和，但是对大多数实用的目的，得到无穷和的一个好近似就够了。\n",
    "\n",
    "使用标准Python求和命令sum,通过求出无穷和的前$10$项，我们可以得到$e$的精确到$6$位小数的近似值。"
   ]
  },
  {
   "cell_type": "code",
   "execution_count": 144,
   "metadata": {},
   "outputs": [
    {
     "data": {
      "image/png": "[encoded data removed]",
      "text/latex": [
       "$\\displaystyle 2.7182815255731922$"
      ],
      "text/plain": [
       "2.7182815255731922"
      ]
     },
     "execution_count": 144,
     "metadata": {},
     "output_type": "execute_result"
    }
   ],
   "source": [
    "import math  # 仅使用Python重新计算，对比一下\n",
    "def b_nf(n):\n",
    "    return 1.0/math.factorial(n)\n",
    "sum([b_nf(n) for n in range(0,10)])"
   ]
  },
  {
   "cell_type": "code",
   "execution_count": 150,
   "metadata": {},
   "outputs": [
    {
     "data": {
      "image/png": "[encoded data removed]",
      "text/latex": [
       "$\\displaystyle 2.7182818284590452$"
      ],
      "text/plain": [
       "2.7182818284590452"
      ]
     },
     "execution_count": 150,
     "metadata": {},
     "output_type": "execute_result"
    }
   ],
   "source": [
    "sp.E.evalf(17)"
   ]
  },
  {
   "cell_type": "code",
   "execution_count": 151,
   "metadata": {},
   "outputs": [],
   "source": [
    "exp_xn = x**n/sp.factorial(n)\n",
    "a = sp.summation(exp_xn.subs({x:5}), [n, 0, oo] )"
   ]
  },
  {
   "cell_type": "code",
   "execution_count": 152,
   "metadata": {},
   "outputs": [
    {
     "data": {
      "image/png": "[encoded data removed]",
      "text/latex": [
       "$\\displaystyle e^{5}$"
      ],
      "text/plain": [
       " 5\n",
       "ℯ "
      ]
     },
     "execution_count": 152,
     "metadata": {},
     "output_type": "execute_result"
    }
   ],
   "source": [
    "a"
   ]
  },
  {
   "cell_type": "code",
   "execution_count": 155,
   "metadata": {},
   "outputs": [
    {
     "data": {
      "image/png": "[encoded data removed]",
      "text/latex": [
       "$\\displaystyle 148.4131591025766$"
      ],
      "text/plain": [
       "148.41315910257660"
      ]
     },
     "execution_count": 155,
     "metadata": {},
     "output_type": "execute_result"
    }
   ],
   "source": [
    "a.evalf(17)"
   ]
  },
  {
   "cell_type": "code",
   "execution_count": 154,
   "metadata": {},
   "outputs": [
    {
     "data": {
      "image/png": "[encoded data removed]",
      "text/latex": [
       "$\\displaystyle 148.41315910257657$"
      ],
      "text/plain": [
       "148.41315910257657"
      ]
     },
     "execution_count": 154,
     "metadata": {},
     "output_type": "execute_result"
    }
   ],
   "source": [
    "import math # 仅使用Python重新计算，对比一下\n",
    "def exp_xnf(x,n):\n",
    "    return x**n/math.factorial(n)\n",
    "sum([exp_xnf(5.0,i) for i in range(0,35)])"
   ]
  },
  {
   "cell_type": "markdown",
   "metadata": {},
   "source": [
    "### 3.10 泰勒级数 series\n",
    "\n",
    "一个函数的幂级数展开称为Taylor级数，展开的系数依赖于该函数的高阶导数。\n",
    "\n",
    "$f(x)$在$x = c$点的泰勒级数的第$n$项由下列公式给出：\n",
    "\n",
    "$$a_n(x) = \\frac {f^{(n)}(c)} {n!}(x − c)^n,$$\n",
    "\n",
    "其中$f^{(n)}(c)$是$f(x)$的$n$阶导数在$x = c$处的值。\n",
    "\n",
    "术语Maclaurin（麦克劳林）级数专指在$x = 0$处的泰勒级数。\n",
    "\n",
    "SymPy的函数series可用于得到任意函数的泰勒级数：\n",
    "调用series(expr,var,at,nmax)显示expr在var=at处的级数展开，最高幂次到nmax-1。"
   ]
  },
  {
   "cell_type": "code",
   "execution_count": 156,
   "metadata": {},
   "outputs": [
    {
     "data": {
      "image/png": "[encoded data removed]",
      "text/latex": [
       "$\\displaystyle x - \\frac{x^{3}}{6} + \\frac{x^{5}}{120} - \\frac{x^{7}}{5040} + \\frac{x^{9}}{362880} + O\\left(x^{10}\\right)$"
      ],
      "text/plain": [
       "     3     5     7       9           \n",
       "    x     x     x       x       ⎛ 10⎞\n",
       "x - ── + ─── - ──── + ────── + O⎝x  ⎠\n",
       "    6    120   5040   362880         "
      ]
     },
     "execution_count": 156,
     "metadata": {},
     "output_type": "execute_result"
    }
   ],
   "source": [
    "sp.series(sp.sin(x), x, 0, 10)"
   ]
  },
  {
   "cell_type": "code",
   "execution_count": 157,
   "metadata": {},
   "outputs": [
    {
     "data": {
      "image/png": "[encoded data removed]",
      "text/latex": [
       "$\\displaystyle 1 - \\frac{x^{2}}{2} + \\frac{x^{4}}{24} - \\frac{x^{6}}{720} + O\\left(x^{8}\\right)$"
      ],
      "text/plain": [
       "     2    4     6        \n",
       "    x    x     x     ⎛ 8⎞\n",
       "1 - ── + ── - ─── + O⎝x ⎠\n",
       "    2    24   720        "
      ]
     },
     "execution_count": 157,
     "metadata": {},
     "output_type": "execute_result"
    }
   ],
   "source": [
    "sp.series(sp.cos(x), x, 0, 8)"
   ]
  },
  {
   "cell_type": "code",
   "execution_count": 158,
   "metadata": {},
   "outputs": [
    {
     "data": {
      "image/png": "[encoded data removed]",
      "text/latex": [
       "$\\displaystyle x + \\frac{x^{3}}{6} + \\frac{x^{5}}{120} + \\frac{x^{7}}{5040} + O\\left(x^{8}\\right)$"
      ],
      "text/plain": [
       "     3     5     7         \n",
       "    x     x     x      ⎛ 8⎞\n",
       "x + ── + ─── + ──── + O⎝x ⎠\n",
       "    6    120   5040        "
      ]
     },
     "execution_count": 158,
     "metadata": {},
     "output_type": "execute_result"
    }
   ],
   "source": [
    "sp.series(sp.sinh(x), x, 0, 8)"
   ]
  },
  {
   "cell_type": "code",
   "execution_count": 159,
   "metadata": {},
   "outputs": [
    {
     "data": {
      "image/png": "[encoded data removed]",
      "text/latex": [
       "$\\displaystyle 1 + \\frac{x^{2}}{2} + \\frac{x^{4}}{24} + \\frac{x^{6}}{720} + O\\left(x^{8}\\right)$"
      ],
      "text/plain": [
       "     2    4     6        \n",
       "    x    x     x     ⎛ 8⎞\n",
       "1 + ── + ── + ─── + O⎝x ⎠\n",
       "    2    24   720        "
      ]
     },
     "execution_count": 159,
     "metadata": {},
     "output_type": "execute_result"
    }
   ],
   "source": [
    "sp.series(sp.cosh(x), x, 0, 8)"
   ]
  },
  {
   "cell_type": "markdown",
   "metadata": {},
   "source": [
    "有些函数在$x = 0$处没有定义，因此我们关于一个不同的$x$值来展开。\n",
    "\n",
    "例如，$ln(x)$在$x = 1$处的幂级数展开为："
   ]
  },
  {
   "cell_type": "code",
   "execution_count": 160,
   "metadata": {},
   "outputs": [
    {
     "data": {
      "image/png": "[encoded data removed]",
      "text/latex": [
       "$\\displaystyle -1 - \\frac{\\left(x - 1\\right)^{2}}{2} + \\frac{\\left(x - 1\\right)^{3}}{3} - \\frac{\\left(x - 1\\right)^{4}}{4} + \\frac{\\left(x - 1\\right)^{5}}{5} + x + O\\left(\\left(x - 1\\right)^{6}; x\\rightarrow 1\\right)$"
      ],
      "text/plain": [
       "            2          3          4          5                         \n",
       "     (x - 1)    (x - 1)    (x - 1)    (x - 1)         ⎛       6       ⎞\n",
       "-1 - ──────── + ──────── - ──────── + ──────── + x + O⎝(x - 1) ; x → 1⎠\n",
       "        2          3          4          5                             "
      ]
     },
     "execution_count": 160,
     "metadata": {},
     "output_type": "execute_result"
    }
   ],
   "source": [
    "sp.series(sp.ln(x), x, 1, 6) # ln(x)在x = 1处的Taylor级数展开"
   ]
  },
  {
   "cell_type": "markdown",
   "metadata": {},
   "source": [
    "我们也可以通过在$x = 0$展开$ln(x + 1)$："
   ]
  },
  {
   "cell_type": "code",
   "execution_count": 161,
   "metadata": {},
   "outputs": [
    {
     "data": {
      "image/png": "[encoded data removed]",
      "text/latex": [
       "$\\displaystyle x - \\frac{x^{2}}{2} + \\frac{x^{3}}{3} - \\frac{x^{4}}{4} + \\frac{x^{5}}{5} + O\\left(x^{6}\\right)$"
      ],
      "text/plain": [
       "     2    3    4    5        \n",
       "    x    x    x    x     ⎛ 6⎞\n",
       "x - ── + ── - ── + ── + O⎝x ⎠\n",
       "    2    3    4    5         "
      ]
     },
     "execution_count": 161,
     "metadata": {},
     "output_type": "execute_result"
    }
   ],
   "source": [
    "sp.series(sp.ln(x+1), x, 0, 6) # ln(x+1)的Maclaurin级数"
   ]
  },
  {
   "cell_type": "markdown",
   "metadata": {},
   "source": [
    "## 4. 矩阵与向量"
   ]
  },
  {
   "cell_type": "markdown",
   "metadata": {},
   "source": [
    "### 4.1 矩阵"
   ]
  },
  {
   "cell_type": "markdown",
   "metadata": {},
   "source": [
    "矩阵$A \\in \\mathbb{R}^{m \\times n}$是一个$m$行和$n$列的矩形实数阵列。"
   ]
  },
  {
   "cell_type": "code",
   "execution_count": 162,
   "metadata": {},
   "outputs": [],
   "source": [
    "from sympy import Matrix  # 再引用Matrix时不必用sp.Matrix了！方便！当然，用sp.Matrix也对"
   ]
  },
  {
   "cell_type": "code",
   "execution_count": 163,
   "metadata": {},
   "outputs": [
    {
     "data": {
      "text/latex": [
       "$\\displaystyle \\left[\\begin{matrix}2 & -3 & -8 & 7\\\\-2 & -1 & 2 & -7\\\\1 & 0 & -3 & 6\\end{matrix}\\right]$"
      ],
      "text/plain": [
       "⎡2   -3  -8  7 ⎤\n",
       "⎢              ⎥\n",
       "⎢-2  -1  2   -7⎥\n",
       "⎢              ⎥\n",
       "⎣1   0   -3  6 ⎦"
      ]
     },
     "execution_count": 163,
     "metadata": {},
     "output_type": "execute_result"
    }
   ],
   "source": [
    "A = Matrix([[ 2,-3,-8, 7],\n",
    "            [-2,-1, 2,-7],\n",
    "            [ 1, 0,-3, 6]])\n",
    "A"
   ]
  },
  {
   "cell_type": "markdown",
   "metadata": {},
   "source": [
    "使用方括号可访问矩阵的元素或得到子矩阵："
   ]
  },
  {
   "cell_type": "code",
   "execution_count": 166,
   "metadata": {},
   "outputs": [
    {
     "data": {
      "image/png": "[encoded data removed]",
      "text/latex": [
       "$\\displaystyle -3$"
      ],
      "text/plain": [
       "-3"
      ]
     },
     "execution_count": 166,
     "metadata": {},
     "output_type": "execute_result"
    }
   ],
   "source": [
    "A[0,1]  # A的第0行、第1列   #注意从0开始编号"
   ]
  },
  {
   "cell_type": "code",
   "execution_count": 167,
   "metadata": {},
   "outputs": [
    {
     "data": {
      "text/latex": [
       "$\\displaystyle \\left[\\begin{matrix}2 & -3 & -8\\\\-2 & -1 & 2\\end{matrix}\\right]$"
      ],
      "text/plain": [
       "⎡2   -3  -8⎤\n",
       "⎢          ⎥\n",
       "⎣-2  -1  2 ⎦"
      ]
     },
     "execution_count": 167,
     "metadata": {},
     "output_type": "execute_result"
    }
   ],
   "source": [
    "A[0:2,0:3] # A的最左上角的2x3子矩阵"
   ]
  },
  {
   "cell_type": "markdown",
   "metadata": {},
   "source": [
    "一些常用的特殊矩阵可以使用快速方法创建："
   ]
  },
  {
   "cell_type": "code",
   "execution_count": 168,
   "metadata": {},
   "outputs": [
    {
     "data": {
      "text/latex": [
       "$\\displaystyle \\left[\\begin{matrix}1 & 0\\\\0 & 1\\end{matrix}\\right]$"
      ],
      "text/plain": [
       "⎡1  0⎤\n",
       "⎢    ⎥\n",
       "⎣0  1⎦"
      ]
     },
     "execution_count": 168,
     "metadata": {},
     "output_type": "execute_result"
    }
   ],
   "source": [
    "sp.eye(2)  # 2x2单位矩阵   sp有一些专门给Matrix的方法"
   ]
  },
  {
   "cell_type": "code",
   "execution_count": 169,
   "metadata": {},
   "outputs": [
    {
     "data": {
      "text/latex": [
       "$\\displaystyle \\left[\\begin{matrix}0 & 0 & 0\\\\0 & 0 & 0\\end{matrix}\\right]$"
      ],
      "text/plain": [
       "⎡0  0  0⎤\n",
       "⎢       ⎥\n",
       "⎣0  0  0⎦"
      ]
     },
     "execution_count": 169,
     "metadata": {},
     "output_type": "execute_result"
    }
   ],
   "source": [
    "sp.zeros(2, 3)"
   ]
  },
  {
   "cell_type": "markdown",
   "metadata": {},
   "source": [
    "标准的代数运算，比如加法+、减法-、乘法$*$、和指数运算$**$对矩阵都可以进行。\n",
    "\n",
    "转置运算transpose将矩阵沿其对角线翻转："
   ]
  },
  {
   "cell_type": "code",
   "execution_count": 170,
   "metadata": {},
   "outputs": [
    {
     "data": {
      "text/latex": [
       "$\\displaystyle \\left[\\begin{matrix}2 & -2 & 1\\\\-3 & -1 & 0\\\\-8 & 2 & -3\\\\7 & -7 & 6\\end{matrix}\\right]$"
      ],
      "text/plain": [
       "⎡2   -2  1 ⎤\n",
       "⎢          ⎥\n",
       "⎢-3  -1  0 ⎥\n",
       "⎢          ⎥\n",
       "⎢-8  2   -3⎥\n",
       "⎢          ⎥\n",
       "⎣7   -7  6 ⎦"
      ]
     },
     "execution_count": 170,
     "metadata": {},
     "output_type": "execute_result"
    }
   ],
   "source": [
    "A.transpose()   # 等同于A.T，但是没有A'"
   ]
  },
  {
   "cell_type": "markdown",
   "metadata": {},
   "source": [
    "### 4.2 矩阵的行操作"
   ]
  },
  {
   "cell_type": "code",
   "execution_count": 173,
   "metadata": {},
   "outputs": [
    {
     "data": {
      "text/latex": [
       "$\\displaystyle \\left[\\begin{matrix}1 & 0 & 0\\\\3 & 1 & 0\\\\0 & 0 & 1\\end{matrix}\\right]$"
      ],
      "text/plain": [
       "⎡1  0  0⎤\n",
       "⎢       ⎥\n",
       "⎢3  1  0⎥\n",
       "⎢       ⎥\n",
       "⎣0  0  1⎦"
      ]
     },
     "execution_count": 173,
     "metadata": {},
     "output_type": "execute_result"
    }
   ],
   "source": [
    "M = sp.eye(3)\n",
    "M[1,:] = M[1,:] + 3 * M[0,:]\n",
    "M"
   ]
  },
  {
   "cell_type": "markdown",
   "metadata": {},
   "source": [
    "Gauss-Jordan消元法是对矩阵实施的一系列行操作，可以将任何矩阵变换为行简约梯形标准型(RREF)。在SymPy中，rref方法用于计算一个矩阵的RREF："
   ]
  },
  {
   "cell_type": "code",
   "execution_count": 175,
   "metadata": {},
   "outputs": [
    {
     "data": {
      "text/latex": [
       "$\\displaystyle \\left[\\begin{matrix}2 & -3 & -8 & 7\\\\-2 & -1 & 2 & -7\\\\1 & 0 & -3 & 6\\end{matrix}\\right]$"
      ],
      "text/plain": [
       "⎡2   -3  -8  7 ⎤\n",
       "⎢              ⎥\n",
       "⎢-2  -1  2   -7⎥\n",
       "⎢              ⎥\n",
       "⎣1   0   -3  6 ⎦"
      ]
     },
     "execution_count": 175,
     "metadata": {},
     "output_type": "execute_result"
    }
   ],
   "source": [
    "A = Matrix([[2,-3,-8, 7],\n",
    "            [-2,-1,2,-7],\n",
    "            [1 ,0,-3, 6]])\n",
    "A"
   ]
  },
  {
   "cell_type": "code",
   "execution_count": 176,
   "metadata": {},
   "outputs": [
    {
     "data": {
      "text/latex": [
       "$\\displaystyle \\left( \\left[\\begin{matrix}1 & 0 & 0 & 0\\\\0 & 1 & 0 & 3\\\\0 & 0 & 1 & -2\\end{matrix}\\right], \\  \\left( 0, \\  1, \\  2\\right)\\right)$"
      ],
      "text/plain": [
       "⎛⎡1  0  0  0 ⎤           ⎞\n",
       "⎜⎢           ⎥           ⎟\n",
       "⎜⎢0  1  0  3 ⎥, (0, 1, 2)⎟\n",
       "⎜⎢           ⎥           ⎟\n",
       "⎝⎣0  0  1  -2⎦           ⎠"
      ]
     },
     "execution_count": 176,
     "metadata": {},
     "output_type": "execute_result"
    }
   ],
   "source": [
    "A.rref()  #直接梯形标准化"
   ]
  },
  {
   "cell_type": "markdown",
   "metadata": {},
   "source": [
    "注意，rref方法返回两组值：第一组是矩阵$A$的行简约梯形标准型RREF；而第二组指示在$A$的RREF中，每行第一个1的位置（所在的列），这些1也称为主元。\n",
    "\n",
    "例如，上例中后面的一组值[0, 1, 2]表示主元的位置。\n",
    "\n",
    "如果只想得到$A$的RREF，使用A.rref()[0]."
   ]
  },
  {
   "cell_type": "code",
   "execution_count": 177,
   "metadata": {},
   "outputs": [
    {
     "data": {
      "text/latex": [
       "$\\displaystyle \\left[\\begin{matrix}1 & 0 & 0 & 0\\\\0 & 1 & 0 & 3\\\\0 & 0 & 1 & -2\\end{matrix}\\right]$"
      ],
      "text/plain": [
       "⎡1  0  0  0 ⎤\n",
       "⎢           ⎥\n",
       "⎢0  1  0  3 ⎥\n",
       "⎢           ⎥\n",
       "⎣0  0  1  -2⎦"
      ]
     },
     "execution_count": 177,
     "metadata": {},
     "output_type": "execute_result"
    }
   ],
   "source": [
    "A.rref()[0]"
   ]
  },
  {
   "cell_type": "markdown",
   "metadata": {},
   "source": [
    "### 4.3 基本子空间\n",
    "考虑矩阵$A \\in \\mathbb{R}^{m \\times n}.$ 伴随着$A$有三个重要的基本子空间：\n",
    "* 列空间$\\mathcal{C}(A)$ 是$A$的由RREF中主元所指示的那些列所张成的子空间。\n",
    "* 零空间$\\mathcal{N}(A)$ 是所有满足$A \\vec{x} = \\vec{0}$的向量$\\vec{x}$所构成的子空间。\n",
    "* 行空间$\\mathcal{R}(A)$是零空间的正交补。 \n",
    "\n",
    "当我们将矩阵$A$视为线性变换$T_A \\colon \\mathbb{R}^{n} \\to \\mathbb{R}^{m}$时，这些子空间显得格外重要。\n",
    "\n",
    "线性变换$T_A$定义为：对于$\\vec{x} \\in \\mathbb{R}^{n},T_A(\\vec{x}) = A\\vec{x}.$\n",
    "* $\\mathcal{C}(A) = Im(T_A)$（$T_A$的像空间）\n",
    "* $\\mathcal{N}(A) = Ker(T_A)$（满足$T_A(\\vec{x}) = \\vec{0}$的所有向量集合）\n",
    "* $\\mathcal{R}(A)$是零空间的正交补。"
   ]
  },
  {
   "cell_type": "code",
   "execution_count": 178,
   "metadata": {},
   "outputs": [
    {
     "data": {
      "text/latex": [
       "$\\displaystyle \\left[ \\left[\\begin{matrix}1 & 0 & 0 & 0\\end{matrix}\\right], \\  \\left[\\begin{matrix}0 & 1 & 0 & 3\\end{matrix}\\right], \\  \\left[\\begin{matrix}0 & 0 & 1 & -2\\end{matrix}\\right]\\right]$"
      ],
      "text/plain": [
       "[[1  0  0  0], [0  1  0  3], [0  0  1  -2]]"
      ]
     },
     "execution_count": 178,
     "metadata": {},
     "output_type": "execute_result"
    }
   ],
   "source": [
    "[A.rref()[0][r,:] for r in A.rref()[1]]   # R(A)"
   ]
  },
  {
   "cell_type": "code",
   "execution_count": 179,
   "metadata": {},
   "outputs": [
    {
     "data": {
      "text/latex": [
       "$\\displaystyle \\left[ \\left[\\begin{matrix}2\\\\-2\\\\1\\end{matrix}\\right], \\  \\left[\\begin{matrix}-3\\\\-1\\\\0\\end{matrix}\\right], \\  \\left[\\begin{matrix}-8\\\\2\\\\-3\\end{matrix}\\right]\\right]$"
      ],
      "text/plain": [
       "⎡⎡2 ⎤  ⎡-3⎤  ⎡-8⎤⎤\n",
       "⎢⎢  ⎥  ⎢  ⎥  ⎢  ⎥⎥\n",
       "⎢⎢-2⎥, ⎢-1⎥, ⎢2 ⎥⎥\n",
       "⎢⎢  ⎥  ⎢  ⎥  ⎢  ⎥⎥\n",
       "⎣⎣1 ⎦  ⎣0 ⎦  ⎣-3⎦⎦"
      ]
     },
     "execution_count": 179,
     "metadata": {},
     "output_type": "execute_result"
    }
   ],
   "source": [
    "[A[:,c] for c in A.rref()[1]]  # C(A)，注意要选原始矩阵A的列，不是RREF的列"
   ]
  },
  {
   "cell_type": "code",
   "execution_count": 180,
   "metadata": {},
   "outputs": [
    {
     "data": {
      "text/latex": [
       "$\\displaystyle \\left[ \\left[\\begin{matrix}0\\\\-3\\\\2\\\\1\\end{matrix}\\right]\\right]$"
      ],
      "text/plain": [
       "⎡⎡0 ⎤⎤\n",
       "⎢⎢  ⎥⎥\n",
       "⎢⎢-3⎥⎥\n",
       "⎢⎢  ⎥⎥\n",
       "⎢⎢2 ⎥⎥\n",
       "⎢⎢  ⎥⎥\n",
       "⎣⎣1 ⎦⎦"
      ]
     },
     "execution_count": 180,
     "metadata": {},
     "output_type": "execute_result"
    }
   ],
   "source": [
    "A.nullspace()  # N(A)"
   ]
  },
  {
   "cell_type": "markdown",
   "metadata": {},
   "source": [
    "### 4.4 行列式\n",
    "矩阵$A$的行列式，记为$det(A)$或者$|A|$，是表征矩阵很多性质的一个数，可用于计算由$A$的行（或列）构成几何体的面积或体积、求解线性方程组、检验矩阵是否可逆等等。"
   ]
  },
  {
   "cell_type": "code",
   "execution_count": 181,
   "metadata": {},
   "outputs": [
    {
     "data": {
      "image/png": "[encoded data removed]",
      "text/latex": [
       "$\\displaystyle 2$"
      ],
      "text/plain": [
       "2"
      ]
     },
     "execution_count": 181,
     "metadata": {},
     "output_type": "execute_result"
    }
   ],
   "source": [
    "M = Matrix([[1, 2, 3],\n",
    "            [2,-2, 4],\n",
    "            [2, 2, 5]])\n",
    "M.det()"
   ]
  },
  {
   "cell_type": "markdown",
   "metadata": {},
   "source": [
    "### 4.5 矩阵的逆\n",
    "对于可逆矩阵$A$，存在逆矩阵$A^{-1}$，即满足：\n",
    "$$A A^{-1} = A^{-1}A = \\mathbb{I}.$$"
   ]
  },
  {
   "cell_type": "code",
   "execution_count": 182,
   "metadata": {},
   "outputs": [
    {
     "data": {
      "text/latex": [
       "$\\displaystyle \\left[\\begin{matrix}1 & 2\\\\3 & 9\\end{matrix}\\right]$"
      ],
      "text/plain": [
       "⎡1  2⎤\n",
       "⎢    ⎥\n",
       "⎣3  9⎦"
      ]
     },
     "execution_count": 182,
     "metadata": {},
     "output_type": "execute_result"
    }
   ],
   "source": [
    "A = Matrix([[1,2],\n",
    "            [3,9]])\n",
    "A"
   ]
  },
  {
   "cell_type": "code",
   "execution_count": 183,
   "metadata": {},
   "outputs": [
    {
     "data": {
      "text/latex": [
       "$\\displaystyle \\left[\\begin{matrix}3 & - \\frac{2}{3}\\\\-1 & \\frac{1}{3}\\end{matrix}\\right]$"
      ],
      "text/plain": [
       "⎡3   -2/3⎤\n",
       "⎢        ⎥\n",
       "⎣-1  1/3 ⎦"
      ]
     },
     "execution_count": 183,
     "metadata": {},
     "output_type": "execute_result"
    }
   ],
   "source": [
    "B = A.inv()\n",
    "B"
   ]
  },
  {
   "cell_type": "code",
   "execution_count": 184,
   "metadata": {},
   "outputs": [
    {
     "data": {
      "text/latex": [
       "$\\displaystyle \\left[\\begin{matrix}1 & 0\\\\0 & 1\\end{matrix}\\right]$"
      ],
      "text/plain": [
       "⎡1  0⎤\n",
       "⎢    ⎥\n",
       "⎣0  1⎦"
      ]
     },
     "execution_count": 184,
     "metadata": {},
     "output_type": "execute_result"
    }
   ],
   "source": [
    "A * B"
   ]
  },
  {
   "cell_type": "code",
   "execution_count": 185,
   "metadata": {},
   "outputs": [
    {
     "data": {
      "text/latex": [
       "$\\displaystyle \\left[\\begin{matrix}1 & 0\\\\0 & 1\\end{matrix}\\right]$"
      ],
      "text/plain": [
       "⎡1  0⎤\n",
       "⎢    ⎥\n",
       "⎣0  1⎦"
      ]
     },
     "execution_count": 185,
     "metadata": {},
     "output_type": "execute_result"
    }
   ],
   "source": [
    "B * A"
   ]
  },
  {
   "cell_type": "markdown",
   "metadata": {},
   "source": [
    "### 4.6 特征向量与特征值\n",
    "若一个向量$\\vec{e}$满足:\n",
    "$$A \\vec{e} = \\lambda \\vec{e},$$\n",
    "则$\\vec{e} = \\vec{e}_{\\lambda}$称为$A$的一个特征向量，常数$\\lambda$称为$A$的（对应于$\\vec{e}$的）一个特征值。\n",
    "\n",
    "要求出特征值，从方程$A \\vec{e} = \\lambda \\vec{e}$出发，通过插入单位矩阵，\n",
    "$$A \\vec{e} = \\lambda \\mathbb{I} \\vec{e} \\Longrightarrow (A - \\lambda \\mathbb{I}) \\vec{e} = \\vec{0}.$$.\n",
    "\n",
    "当特征多项式$p(x) = |A - \\lambda \\mathbb{I}| = 0$时，这个方程由非平凡解。\n",
    "\n",
    "$A$的特征值${\\lambda_1,\\lambda_2, ... ,\\lambda_n}$是特征多项式的根。"
   ]
  },
  {
   "cell_type": "code",
   "execution_count": 187,
   "metadata": {},
   "outputs": [
    {
     "data": {
      "image/png": "[encoded data removed]",
      "text/latex": [
       "$\\displaystyle \\left\\{ 5 : 1, \\  10 : 1\\right\\}$"
      ],
      "text/plain": [
       "{5: 1, 10: 1}"
      ]
     },
     "execution_count": 187,
     "metadata": {},
     "output_type": "execute_result"
    }
   ],
   "source": [
    "A = Matrix([[ 9, -2],\n",
    "            [-2, 6]])\n",
    "A.eigenvals()          # 与solve(det(A-eye(2)*x),x)相同"
   ]
  },
  {
   "cell_type": "markdown",
   "metadata": {},
   "source": [
    "{5:1,10:1}表示特征值的“重数”都是1."
   ]
  },
  {
   "cell_type": "code",
   "execution_count": 188,
   "metadata": {},
   "outputs": [
    {
     "data": {
      "text/latex": [
       "$\\displaystyle \\left[ \\left( 5, \\  1, \\  \\left[ \\left[\\begin{matrix}\\frac{1}{2}\\\\1\\end{matrix}\\right]\\right]\\right), \\  \\left( 10, \\  1, \\  \\left[ \\left[\\begin{matrix}-2\\\\1\\end{matrix}\\right]\\right]\\right)\\right]$"
      ],
      "text/plain": [
       "⎡⎛      ⎡⎡1/2⎤⎤⎞  ⎛       ⎡⎡-2⎤⎤⎞⎤\n",
       "⎢⎜5, 1, ⎢⎢   ⎥⎥⎟, ⎜10, 1, ⎢⎢  ⎥⎥⎟⎥\n",
       "⎣⎝      ⎣⎣ 1 ⎦⎦⎠  ⎝       ⎣⎣1 ⎦⎦⎠⎦"
      ]
     },
     "execution_count": 188,
     "metadata": {},
     "output_type": "execute_result"
    }
   ],
   "source": [
    "A.eigenvects()"
   ]
  },
  {
   "cell_type": "markdown",
   "metadata": {},
   "source": [
    "某些特殊的矩阵可以用特征向量和特征值完全表示出来。\n",
    "* 若矩阵$\\Lambda$是由的特征值构成的对角矩阵，$Q$是由的特征向量为列构成的矩阵：\n",
    "$$\\Lambda =  \\begin{pmatrix}\n",
    "                 \\lambda_1 & \\cdots  & 0         \\\\\n",
    "                 \\vdots     & \\ddots  & \\vdots   \\\\\n",
    "                 0         & \\cdots  & \\lambda_n \\\\\n",
    "               \\end{pmatrix},\n",
    "  Q = [\\vec{e}_{\\lambda_1} \\cdots \\vec{e}_{\\lambda_n}].$$\n",
    "* 则有：\n",
    "$$A = Q \\Lambda Q^{-1}.$$\n",
    "* 可以写为这种形式的矩阵称为可对角化的。"
   ]
  },
  {
   "cell_type": "code",
   "execution_count": 189,
   "metadata": {},
   "outputs": [],
   "source": [
    "Q,L = A.diagonalize()"
   ]
  },
  {
   "cell_type": "code",
   "execution_count": 190,
   "metadata": {},
   "outputs": [
    {
     "data": {
      "text/latex": [
       "$\\displaystyle \\left[\\begin{matrix}1 & -2\\\\2 & 1\\end{matrix}\\right]$"
      ],
      "text/plain": [
       "⎡1  -2⎤\n",
       "⎢     ⎥\n",
       "⎣2  1 ⎦"
      ]
     },
     "execution_count": 190,
     "metadata": {},
     "output_type": "execute_result"
    }
   ],
   "source": [
    "Q                # 特征向量矩阵"
   ]
  },
  {
   "cell_type": "code",
   "execution_count": 191,
   "metadata": {},
   "outputs": [
    {
     "data": {
      "text/latex": [
       "$\\displaystyle \\left[\\begin{matrix}\\frac{1}{5} & \\frac{2}{5}\\\\- \\frac{2}{5} & \\frac{1}{5}\\end{matrix}\\right]$"
      ],
      "text/plain": [
       "⎡1/5   2/5⎤\n",
       "⎢         ⎥\n",
       "⎣-2/5  1/5⎦"
      ]
     },
     "execution_count": 191,
     "metadata": {},
     "output_type": "execute_result"
    }
   ],
   "source": [
    "Q.inv()"
   ]
  },
  {
   "cell_type": "code",
   "execution_count": 192,
   "metadata": {},
   "outputs": [
    {
     "data": {
      "text/latex": [
       "$\\displaystyle \\left[\\begin{matrix}5 & 0\\\\0 & 10\\end{matrix}\\right]$"
      ],
      "text/plain": [
       "⎡5  0 ⎤\n",
       "⎢     ⎥\n",
       "⎣0  10⎦"
      ]
     },
     "execution_count": 192,
     "metadata": {},
     "output_type": "execute_result"
    }
   ],
   "source": [
    "L                # 特征值对角矩阵"
   ]
  },
  {
   "cell_type": "code",
   "execution_count": 193,
   "metadata": {},
   "outputs": [
    {
     "data": {
      "text/latex": [
       "$\\displaystyle \\left[\\begin{matrix}9 & -2\\\\-2 & 6\\end{matrix}\\right]$"
      ],
      "text/plain": [
       "⎡9   -2⎤\n",
       "⎢      ⎥\n",
       "⎣-2  6 ⎦"
      ]
     },
     "execution_count": 193,
     "metadata": {},
     "output_type": "execute_result"
    }
   ],
   "source": [
    "Q * L * Q.inv()   # A的特征分解"
   ]
  },
  {
   "cell_type": "code",
   "execution_count": 194,
   "metadata": {},
   "outputs": [
    {
     "data": {
      "text/latex": [
       "$\\displaystyle \\left[\\begin{matrix}5 & 0\\\\0 & 10\\end{matrix}\\right]$"
      ],
      "text/plain": [
       "⎡5  0 ⎤\n",
       "⎢     ⎥\n",
       "⎣0  10⎦"
      ]
     },
     "execution_count": 194,
     "metadata": {},
     "output_type": "execute_result"
    }
   ],
   "source": [
    "Q.inv() * A * Q   # 由A和Q得到L"
   ]
  },
  {
   "cell_type": "markdown",
   "metadata": {},
   "source": [
    "注意：并非所有矩阵都是可对角化的。\n",
    "\n",
    "可以通过调用is_diagonalizable方法判断一个矩阵是否可对角化："
   ]
  },
  {
   "cell_type": "code",
   "execution_count": 195,
   "metadata": {},
   "outputs": [
    {
     "data": {
      "text/plain": [
       "True"
      ]
     },
     "execution_count": 195,
     "metadata": {},
     "output_type": "execute_result"
    }
   ],
   "source": [
    "A.is_diagonalizable()"
   ]
  },
  {
   "cell_type": "code",
   "execution_count": 196,
   "metadata": {},
   "outputs": [
    {
     "data": {
      "text/plain": [
       "False"
      ]
     },
     "execution_count": 196,
     "metadata": {},
     "output_type": "execute_result"
    }
   ],
   "source": [
    "B = Matrix([[1, 3],\n",
    "            [0, 1]])\n",
    "B.is_diagonalizable()"
   ]
  },
  {
   "cell_type": "code",
   "execution_count": 197,
   "metadata": {},
   "outputs": [
    {
     "data": {
      "image/png": "[encoded data removed]",
      "text/latex": [
       "$\\displaystyle \\left\\{ 1 : 2\\right\\}$"
      ],
      "text/plain": [
       "{1: 2}"
      ]
     },
     "execution_count": 197,
     "metadata": {},
     "output_type": "execute_result"
    }
   ],
   "source": [
    "B.eigenvals()     # 特征值1的重数为2"
   ]
  },
  {
   "cell_type": "code",
   "execution_count": 198,
   "metadata": {},
   "outputs": [
    {
     "data": {
      "text/latex": [
       "$\\displaystyle \\left[ \\left( 1, \\  2, \\  \\left[ \\left[\\begin{matrix}1\\\\0\\end{matrix}\\right]\\right]\\right)\\right]$"
      ],
      "text/plain": [
       "⎡⎛      ⎡⎡1⎤⎤⎞⎤\n",
       "⎢⎜1, 2, ⎢⎢ ⎥⎥⎟⎥\n",
       "⎣⎝      ⎣⎣0⎦⎦⎠⎦"
      ]
     },
     "execution_count": 198,
     "metadata": {},
     "output_type": "execute_result"
    }
   ],
   "source": [
    "B.eigenvects()"
   ]
  },
  {
   "cell_type": "markdown",
   "metadata": {},
   "source": [
    "矩阵$B$不可对角化，因为它没有一组完全的特征向量。\n",
    "\n",
    "$B$只有一个特征向量，因此无法构成特征向量矩阵$Q$（少一列！）\n",
    "\n",
    "非正方矩阵没有特征值分解，但可以有奇异值分解（SVD）：非正方矩阵$A$可以分解为左奇异向量矩阵、右奇异向量矩阵和奇异值的对角矩阵。\n",
    "\n",
    "对任何矩阵可以使用singular_values方法求得奇异值。"
   ]
  },
  {
   "cell_type": "markdown",
   "metadata": {},
   "source": [
    "### 4.7 向量\n",
    "一个向量$\\vec{v} \\in \\mathbb{R}^n$就是实数的$n-$元组。\n",
    "\n",
    "例如，考虑有三个分量的向量：\n",
    "\n",
    "$$\\vec{v} = (v_1,v_2,v_3) \\in (\\mathbb{R},\\mathbb{R},\\mathbb{R}) = \\mathbb{R}^3.$$\n",
    "\n",
    "因为向量是一种特殊的矩阵，因此在SymPy中，Matrix也用于向量。"
   ]
  },
  {
   "cell_type": "code",
   "execution_count": 199,
   "metadata": {},
   "outputs": [],
   "source": [
    "u = sp.Matrix([[4,5,6]]) # 行向量 = 1x3矩阵\n",
    "v = sp.Matrix([[7],\n",
    "               [8],\n",
    "               [9]])     # 列向量 = 3x1矩阵"
   ]
  },
  {
   "cell_type": "code",
   "execution_count": 200,
   "metadata": {},
   "outputs": [
    {
     "data": {
      "text/latex": [
       "$\\displaystyle \\left[\\begin{matrix}4 & 5 & 6\\end{matrix}\\right]$"
      ],
      "text/plain": [
       "[4  5  6]"
      ]
     },
     "execution_count": 200,
     "metadata": {},
     "output_type": "execute_result"
    }
   ],
   "source": [
    "u"
   ]
  },
  {
   "cell_type": "code",
   "execution_count": 201,
   "metadata": {},
   "outputs": [
    {
     "data": {
      "text/latex": [
       "$\\displaystyle \\left[\\begin{matrix}7\\\\8\\\\9\\end{matrix}\\right]$"
      ],
      "text/plain": [
       "⎡7⎤\n",
       "⎢ ⎥\n",
       "⎢8⎥\n",
       "⎢ ⎥\n",
       "⎣9⎦"
      ]
     },
     "execution_count": 201,
     "metadata": {},
     "output_type": "execute_result"
    }
   ],
   "source": [
    "v  # 这里和py自带的元组是不一样的，可以对比一下"
   ]
  },
  {
   "cell_type": "code",
   "execution_count": 204,
   "metadata": {},
   "outputs": [
    {
     "data": {
      "image/png": "[encoded data removed]",
      "text/latex": [
       "$\\displaystyle \\left[ \\left[ 1\\right], \\  \\left[ 2\\right], \\  \\left[ 3\\right]\\right]$"
      ],
      "text/plain": [
       "[[1], [2], [3]]"
      ]
     },
     "execution_count": 204,
     "metadata": {},
     "output_type": "execute_result"
    }
   ],
   "source": [
    "[[1],\n",
    " [2],\n",
    " [3]]"
   ]
  },
  {
   "cell_type": "code",
   "execution_count": 202,
   "metadata": {},
   "outputs": [
    {
     "data": {
      "text/latex": [
       "$\\displaystyle \\left[\\begin{matrix}7 & 8 & 9\\end{matrix}\\right]$"
      ],
      "text/plain": [
       "[7  8  9]"
      ]
     },
     "execution_count": 202,
     "metadata": {},
     "output_type": "execute_result"
    }
   ],
   "source": [
    "v.T        # .T是转置运算"
   ]
  },
  {
   "cell_type": "code",
   "execution_count": 205,
   "metadata": {},
   "outputs": [
    {
     "data": {
      "image/png": "[encoded data removed]",
      "text/latex": [
       "$\\displaystyle 4$"
      ],
      "text/plain": [
       "4"
      ]
     },
     "execution_count": 205,
     "metadata": {},
     "output_type": "execute_result"
    }
   ],
   "source": [
    "u[0]"
   ]
  },
  {
   "cell_type": "code",
   "execution_count": 206,
   "metadata": {},
   "outputs": [
    {
     "data": {
      "image/png": "[encoded data removed]",
      "text/latex": [
       "$\\displaystyle \\sqrt{77}$"
      ],
      "text/plain": [
       "√77"
      ]
     },
     "execution_count": 206,
     "metadata": {},
     "output_type": "execute_result"
    }
   ],
   "source": [
    "u.norm()   # u的长度（范数）,这里用的是2-范数，即平方和的开方"
   ]
  },
  {
   "cell_type": "code",
   "execution_count": 207,
   "metadata": {},
   "outputs": [],
   "source": [
    "u1 = u/u.norm()     # 与u同方向的单位向量"
   ]
  },
  {
   "cell_type": "code",
   "execution_count": 208,
   "metadata": {},
   "outputs": [
    {
     "data": {
      "text/latex": [
       "$\\displaystyle \\left[\\begin{matrix}\\frac{4 \\sqrt{77}}{77} & \\frac{5 \\sqrt{77}}{77} & \\frac{6 \\sqrt{77}}{77}\\end{matrix}\\right]$"
      ],
      "text/plain": [
       "⎡4⋅√77  5⋅√77  6⋅√77⎤\n",
       "⎢─────  ─────  ─────⎥\n",
       "⎣  77     77     77 ⎦"
      ]
     },
     "execution_count": 208,
     "metadata": {},
     "output_type": "execute_result"
    }
   ],
   "source": [
    "u1"
   ]
  },
  {
   "cell_type": "code",
   "execution_count": 209,
   "metadata": {},
   "outputs": [
    {
     "data": {
      "image/png": "[encoded data removed]",
      "text/latex": [
       "$\\displaystyle 1$"
      ],
      "text/plain": [
       "1"
      ]
     },
     "execution_count": 209,
     "metadata": {},
     "output_type": "execute_result"
    }
   ],
   "source": [
    "u1.norm()  #单位向量的 2-范数 = 1"
   ]
  },
  {
   "cell_type": "markdown",
   "metadata": {},
   "source": [
    "### 4.8 向量点积\n",
    "\n",
    "两个3-维向量$\\vec{u}$和$\\vec{u}$的点积可以按照两种方法来定义：\n",
    "\n",
    "$$ \\vec{u}·\\vec{v} = \\underbrace{{u_x}{v_x} + {u_y}{v_y} + {u_z}{v_z}}_{代数定义}\n",
    " = \\underbrace{\\Vert{\\vec{u}}\\Vert \\Vert {\\vec{v}} \\Vert \\cos(\\varphi)}_{几何定义}$$\n",
    " \n",
    "其中$\\varphi$是向量$\\vec{u}$和$\\vec{v}$之间的夹角。 "
   ]
  },
  {
   "cell_type": "code",
   "execution_count": 210,
   "metadata": {},
   "outputs": [],
   "source": [
    "u = sp.Matrix([ 4,5,6])\n",
    "v = sp.Matrix([-1,1,2])"
   ]
  },
  {
   "cell_type": "code",
   "execution_count": 211,
   "metadata": {},
   "outputs": [
    {
     "data": {
      "image/png": "[encoded data removed]",
      "text/latex": [
       "$\\displaystyle 13$"
      ],
      "text/plain": [
       "13"
      ]
     },
     "execution_count": 211,
     "metadata": {},
     "output_type": "execute_result"
    }
   ],
   "source": [
    "u.dot(v)           # u和v的点积"
   ]
  },
  {
   "cell_type": "code",
   "execution_count": 212,
   "metadata": {},
   "outputs": [
    {
     "data": {
      "text/plain": [
       "True"
      ]
     },
     "execution_count": 212,
     "metadata": {},
     "output_type": "execute_result"
    }
   ],
   "source": [
    "u.dot(v) == v.dot(u)  # 点积满足交换律"
   ]
  },
  {
   "cell_type": "markdown",
   "metadata": {},
   "source": [
    "给定两个向量$\\vec{u},\\vec{v},$我们可以由下列公式求出两者夹角的余弦：\n",
    "\n",
    "$$\\cos(\\varphi)= \\frac {\\vec{u}·\\vec{v}} {{\\Vert\\vec{u}\\Vert} {\\Vert\\vec{v}\\Vert}}\n",
    "               = \\frac {{u_x}·{v_x}+{u_y}·{v_y}+{u_z}·{v_z}}{{\\Vert\\vec{u}\\Vert} {\\Vert\\vec{v}\\Vert}}.$$\n",
    "\n",
    "然后使用acos函数求出夹角。\n",
    "\n",
    "* 若两个向量之间的夹角为锐角（即$\\varphi < 90^{\\circ}$），则$\\vec{u}·\\vec{v} > 0.$\n",
    "\n",
    "* 若两个向量之间的夹角为直角（即$\\varphi = 90^{\\circ}$），则$\\vec{u}·\\vec{v} = 0,$ 此时称向量$\\vec{u},\\vec{v}$为垂直的。\n",
    "\n",
    "* 若两个向量之间的夹角为锐角（即$\\varphi > 90^{\\circ}$），则$\\vec{u}·\\vec{v} < 0.$"
   ]
  },
  {
   "cell_type": "code",
   "execution_count": 213,
   "metadata": {
    "scrolled": true
   },
   "outputs": [
    {
     "data": {
      "image/png": "[encoded data removed]",
      "text/latex": [
       "$\\displaystyle 0.921263115666387$"
      ],
      "text/plain": [
       "0.921263115666387"
      ]
     },
     "execution_count": 213,
     "metadata": {},
     "output_type": "execute_result"
    }
   ],
   "source": [
    "sp.acos(u.dot(v)/(u.norm()*v.norm())).evalf()"
   ]
  },
  {
   "cell_type": "markdown",
   "metadata": {},
   "source": [
    "向量的点积运算是交换的：$\\vec{u}·\\vec{v} = \\vec{v}·\\vec{u}.$"
   ]
  },
  {
   "cell_type": "code",
   "execution_count": 214,
   "metadata": {},
   "outputs": [
    {
     "data": {
      "text/plain": [
       "True"
      ]
     },
     "execution_count": 214,
     "metadata": {},
     "output_type": "execute_result"
    }
   ],
   "source": [
    "u.dot(v) == v.dot(u)"
   ]
  },
  {
   "cell_type": "markdown",
   "metadata": {},
   "source": [
    "### 4.9 投影\n",
    "点积可用于计算投影。假定给定两个向量$\\vec{u}$和$\\vec{n}$，我们想计算$\\vec{u}$沿着$\\vec{n}$方向的部分。\n",
    "\n",
    "基于点积的下列公式将给出答案：\n",
    "$$\\prod_{\\vec{n}} = \\frac {\\vec{u} \\cdot \\vec{n}} {\\| \\vec{n}\\|} \\vec{n}.$$"
   ]
  },
  {
   "cell_type": "code",
   "execution_count": 215,
   "metadata": {},
   "outputs": [
    {
     "data": {
      "text/latex": [
       "$\\displaystyle \\left[\\begin{matrix}5\\\\5\\\\5\\end{matrix}\\right]$"
      ],
      "text/plain": [
       "⎡5⎤\n",
       "⎢ ⎥\n",
       "⎢5⎥\n",
       "⎢ ⎥\n",
       "⎣5⎦"
      ]
     },
     "execution_count": 215,
     "metadata": {},
     "output_type": "execute_result"
    }
   ],
   "source": [
    "u = sp.Matrix([4,5,6])\n",
    "n = sp.Matrix([1,1,1])\n",
    "(u.dot(n)/n.norm()**2)*n"
   ]
  },
  {
   "cell_type": "markdown",
   "metadata": {},
   "source": [
    "在$\\vec{n}$是单位向量的情形下（即$\\| \\vec{n}\\| = 1,$此时将$\\vec{n}$记为$\\hat{n}$），投影公式简化为：\n",
    "$$\\prod_{\\hat{n}} = ({\\vec{u} \\cdot \\hat{n}}) \\ \\hat{n}.$$\n",
    "\n",
    "现在考虑由方程$(1,1,1)·[(x,y,z)−(0,0,0)] = 0$所定义的平面$P$。\n",
    "\n",
    "$P$是$\\mathbb{R}^3$的二维子空间。我们可以将任何向量$\\vec{u}\\in \\mathbb{R}^3$分解成为两部分：$\\vec{u} = \\vec{v}+ \\vec{w}$，使得$\\vec{v}$落在平面$P$中，且$\\vec{w}$垂直于平面（平行于$\\vec{n} = (1, 1, 1)$）。"
   ]
  },
  {
   "cell_type": "code",
   "execution_count": 216,
   "metadata": {},
   "outputs": [
    {
     "data": {
      "text/latex": [
       "$\\displaystyle \\left[\\begin{matrix}5\\\\5\\\\5\\end{matrix}\\right]$"
      ],
      "text/plain": [
       "⎡5⎤\n",
       "⎢ ⎥\n",
       "⎢5⎥\n",
       "⎢ ⎥\n",
       "⎣5⎦"
      ]
     },
     "execution_count": 216,
     "metadata": {},
     "output_type": "execute_result"
    }
   ],
   "source": [
    "w = (u.dot(n) / n.norm()**2) * n   # 得到u的垂直于P的部分\n",
    "w"
   ]
  },
  {
   "cell_type": "code",
   "execution_count": 217,
   "metadata": {},
   "outputs": [
    {
     "data": {
      "text/latex": [
       "$\\displaystyle \\left[\\begin{matrix}-1\\\\0\\\\1\\end{matrix}\\right]$"
      ],
      "text/plain": [
       "⎡-1⎤\n",
       "⎢  ⎥\n",
       "⎢0 ⎥\n",
       "⎢  ⎥\n",
       "⎣1 ⎦"
      ]
     },
     "execution_count": 217,
     "metadata": {},
     "output_type": "execute_result"
    }
   ],
   "source": [
    "v = u - (u.dot(n)/n.norm()**2)*n # 与 u - w 相同\n",
    "v"
   ]
  },
  {
   "cell_type": "markdown",
   "metadata": {},
   "source": [
    "### 4.10 叉积\n",
    "两个向量$\\vec{u},\\vec{v}$的叉积$\\vec{u} \\times \\vec{v}$仍是是向量。\n",
    "\n",
    "$\\mathbb{R}^3$中基元素的叉积定义如下：\n",
    "\n",
    "$$\\hat{i}\\times \\hat{j} = \\hat{k},\\ \\hat{j}\\times \\hat{k} = \\hat{i},\\ \\hat{k}\\times \\hat{i} = \\hat{j}.$$\n",
    "\n",
    "一般向量的叉积通过线性性质扩展。"
   ]
  },
  {
   "cell_type": "code",
   "execution_count": 218,
   "metadata": {},
   "outputs": [
    {
     "data": {
      "text/latex": [
       "$\\displaystyle \\left[\\begin{matrix}4\\\\-14\\\\9\\end{matrix}\\right]$"
      ],
      "text/plain": [
       "⎡ 4 ⎤\n",
       "⎢   ⎥\n",
       "⎢-14⎥\n",
       "⎢   ⎥\n",
       "⎣ 9 ⎦"
      ]
     },
     "execution_count": 218,
     "metadata": {},
     "output_type": "execute_result"
    }
   ],
   "source": [
    "u = sp.Matrix([4,5,6])\n",
    "v = sp.Matrix([-1,1,2])\n",
    "u.cross(v)     # 叉积结果是向量（有方向），符合右手定理"
   ]
  },
  {
   "cell_type": "markdown",
   "metadata": {},
   "source": [
    "向量$\\vec{u} \\times \\vec{v}$同时正交于$\\vec{u}$和$\\vec{v}$。\n",
    "\n",
    "范数$\\|\\vec{u} \\times \\vec{v}\\|$与两个向量的长度和夹角的正弦成正比。"
   ]
  },
  {
   "cell_type": "code",
   "execution_count": 220,
   "metadata": {},
   "outputs": [
    {
     "data": {
      "image/png": "[encoded data removed]",
      "text/latex": [
       "$\\displaystyle 0.796366206088088$"
      ],
      "text/plain": [
       "0.796366206088088"
      ]
     },
     "execution_count": 220,
     "metadata": {},
     "output_type": "execute_result"
    }
   ],
   "source": [
    "(u.cross(v).norm()/(u.norm()*v.norm())).n()  # = sin(0.921......)"
   ]
  },
  {
   "cell_type": "markdown",
   "metadata": {},
   "source": [
    "“交叉积”这个名字很好地描述了用向量分量计算叉积时的“交叉相乘”运算：\n",
    "$$\\vec{u} \\times \\vec{v} = ({u}_y{v}_z - {u}_z{v}_y,{u}_z{v}_x - {u}_x{v}_z,{u}_x{v}_y - {u}_y{v}_x).$$"
   ]
  },
  {
   "cell_type": "code",
   "execution_count": 221,
   "metadata": {},
   "outputs": [
    {
     "data": {
      "text/latex": [
       "$\\displaystyle \\left[\\begin{matrix}u_{2} v_{3} - u_{3} v_{2}\\\\- u_{1} v_{3} + u_{3} v_{1}\\\\u_{1} v_{2} - u_{2} v_{1}\\end{matrix}\\right]$"
      ],
      "text/plain": [
       "⎡u₂⋅v₃ - u₃⋅v₂ ⎤\n",
       "⎢              ⎥\n",
       "⎢-u₁⋅v₃ + u₃⋅v₁⎥\n",
       "⎢              ⎥\n",
       "⎣u₁⋅v₂ - u₂⋅v₁ ⎦"
      ]
     },
     "execution_count": 221,
     "metadata": {},
     "output_type": "execute_result"
    }
   ],
   "source": [
    "u1,u2,u3 = sp.symbols('u1:4')\n",
    "v1,v2,v3 = sp.symbols('v1:4')\n",
    "sp.Matrix([u1,u2,u3]).cross(sp.Matrix([v1,v2,v3]))"
   ]
  },
  {
   "cell_type": "markdown",
   "metadata": {},
   "source": [
    "向量的叉积运算是反交换的：$\\vec{u} \\times \\vec{v} = - \\vec{v} \\times \\vec{u}.$"
   ]
  },
  {
   "cell_type": "code",
   "execution_count": 222,
   "metadata": {},
   "outputs": [
    {
     "data": {
      "text/latex": [
       "$\\displaystyle \\left[\\begin{matrix}4\\\\-14\\\\9\\end{matrix}\\right]$"
      ],
      "text/plain": [
       "⎡ 4 ⎤\n",
       "⎢   ⎥\n",
       "⎢-14⎥\n",
       "⎢   ⎥\n",
       "⎣ 9 ⎦"
      ]
     },
     "execution_count": 222,
     "metadata": {},
     "output_type": "execute_result"
    }
   ],
   "source": [
    "u.cross(v)"
   ]
  },
  {
   "cell_type": "code",
   "execution_count": 223,
   "metadata": {},
   "outputs": [
    {
     "data": {
      "text/latex": [
       "$\\displaystyle \\left[\\begin{matrix}-4\\\\14\\\\-9\\end{matrix}\\right]$"
      ],
      "text/plain": [
       "⎡-4⎤\n",
       "⎢  ⎥\n",
       "⎢14⎥\n",
       "⎢  ⎥\n",
       "⎣-9⎦"
      ]
     },
     "execution_count": 223,
     "metadata": {},
     "output_type": "execute_result"
    }
   ],
   "source": [
    "v.cross(u)"
   ]
  },
  {
   "cell_type": "code",
   "execution_count": null,
   "metadata": {},
   "outputs": [],
   "source": []
  }
 ],
 "metadata": {
  "kernelspec": {
   "display_name": "Python 3",
   "language": "python",
   "name": "python3"
  },
  "language_info": {
   "codemirror_mode": {
    "name": "ipython",
    "version": 3
   },
   "file_extension": ".py",
   "mimetype": "text/x-python",
   "name": "python",
   "nbconvert_exporter": "python",
   "pygments_lexer": "ipython3",
   "version": "3.6.8"
  }
 },
 "nbformat": 4,
 "nbformat_minor": 2
}
