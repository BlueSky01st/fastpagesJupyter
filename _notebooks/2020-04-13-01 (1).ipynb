{
 "cells": [
  {
   "cell_type": "markdown",
   "metadata": {},
   "source": [
    "# 数学符号\n",
    "> An easy to use blogging platform with extra features for Jupyter Notebooks.\n",
    "\n",
    "- toc: true \n",
    "- badges: true\n",
    "- comments: true\n",
    "- author: Jeremy Howard & Hamel Husain\n",
    "- image: images/diagram.png\n",
    "- categories: [fastpages, jupyter]"
   ]
  },
  {
   "cell_type": "markdown",
   "metadata": {},
   "source": [
    "### LaTeX\n",
    "\n",
    "$\\sqrt{2}$\n",
    "\n",
    "$$\\mathbb{Z} = \\{. . . ,−2,−1, 0, 1, 2, . . .\\}$$\n",
    "\n",
    "$$e = \\lim_{n \\to \\infty}(1 + {\\frac 1 n})^n,$$\n",
    "$$e = \\lim_{\\varepsilon \\to 0}(1 + \\varepsilon)^{\\frac 1 \\varepsilon},$$\n",
    "$$e = \\sum_{n = 0}^{\\infty}{\\frac 1 {n!}}.$$\n",
    "\n",
    "$$Pow(2,1/2)*Pow(2,1/2)= 2.$$"
   ]
  },
 "metadata": {
  "kernelspec": {
   "display_name": "Python 3",
   "language": "python",
   "name": "python3"
  },
  "language_info": {
   "codemirror_mode": {
    "name": "ipython",
    "version": 3
   },
   "file_extension": ".py",
   "mimetype": "text/x-python",
   "name": "python",
   "nbconvert_exporter": "python",
   "pygments_lexer": "ipython3",
   "version": "3.6.8"
  }
 },
 "nbformat": 4,
 "nbformat_minor": 2
}
